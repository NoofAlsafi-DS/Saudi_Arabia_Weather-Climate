{
  "cells": [
    {
      "cell_type": "markdown",
      "metadata": {
        "id": "vRBjG71s_Cta"
      },
      "source": [
        "\n",
        "***\n",
        "# Classification - ML Section\n",
        "\n",
        "***\n"
      ]
    },
    {
      "cell_type": "markdown",
      "metadata": {
        "id": "mHyPnM3G_Ctb"
      },
      "source": [
        "## Importing Packages "
      ]
    },
    {
      "cell_type": "code",
      "execution_count": 65,
      "metadata": {
        "colab": {
          "base_uri": "https://localhost:8080/"
        },
        "id": "55OIc1zX5l29",
        "outputId": "e4aa69bc-c1cf-4c6e-9de8-8864e380ae7c"
      },
      "outputs": [
        {
          "output_type": "stream",
          "name": "stdout",
          "text": [
            "Looking in indexes: https://pypi.org/simple, https://us-python.pkg.dev/colab-wheels/public/simple/\n",
            "Requirement already satisfied: pyspark in /usr/local/lib/python3.8/dist-packages (3.3.1)\n",
            "Requirement already satisfied: py4j==0.10.9.5 in /usr/local/lib/python3.8/dist-packages (from pyspark) (0.10.9.5)\n"
          ]
        }
      ],
      "source": [
        " pip install pyspark "
      ]
    },
    {
      "cell_type": "code",
      "execution_count": 66,
      "metadata": {
        "id": "y7dQc4oDc0fz"
      },
      "outputs": [],
      "source": [
        "import warnings\n",
        "\n",
        "\n",
        "import pyspark\n",
        "from pyspark.sql import functions as F\n",
        "from pyspark.sql import types\n",
        "from pyspark.sql.functions import col, isnan, when, count\n",
        "from pyspark.sql.functions import regexp_extract, regexp_replace\n",
        "from pyspark.sql.functions import substring_index\n",
        "from pyspark.ml import Pipeline\n",
        "\n",
        "#for EDA \n",
        "import matplotlib.pyplot as plt\n",
        "import seaborn as sns\n",
        "import pandas as pd\n",
        "import numpy as np \n",
        "\n",
        "\n",
        "# for ml Classification \n",
        "from pyspark.ml.evaluation import MulticlassClassificationEvaluator\n",
        "from pyspark.ml.classification import LogisticRegression\n",
        "from pyspark.ml.classification import RandomForestClassifier\n",
        "from pyspark.ml.classification import DecisionTreeClassifier\n",
        "from pyspark.ml.classification import GBTClassifier\n",
        "from pyspark.ml.classification import NaiveBayes\n",
        "from pyspark.ml.tuning import CrossValidator, ParamGridBuilder\n",
        "from pyspark.ml.feature import Imputer,StandardScaler,StringIndexer, VectorAssembler, VectorIndexer, OneHotEncoder\n",
        "from pyspark.mllib.evaluation import MulticlassMetrics\n",
        "from pyspark.sql.types import FloatType\n",
        "from pyspark.sql.functions import col, trim, lower\n",
        "\n",
        "\n",
        "warnings.filterwarnings('ignore')"
      ]
    },
    {
      "cell_type": "markdown",
      "metadata": {
        "id": "XbFzxDVL_Ctd"
      },
      "source": [
        "## Loading Dataset "
      ]
    },
    {
      "cell_type": "markdown",
      "metadata": {
        "id": "8wJNcQtgAB8S"
      },
      "source": [
        "First Connect to spark server >> to access to spark cluster, we using SparkSession"
      ]
    },
    {
      "cell_type": "code",
      "execution_count": 67,
      "metadata": {
        "id": "Uj4YuXAjlH-A"
      },
      "outputs": [],
      "source": [
        "spark = pyspark.sql.SparkSession.builder.getOrCreate()"
      ]
    },
    {
      "cell_type": "code",
      "source": [
        "from google.colab import drive\n",
        "drive.mount('/content/drive')"
      ],
      "metadata": {
        "colab": {
          "base_uri": "https://localhost:8080/"
        },
        "id": "CeHjn21arXsU",
        "outputId": "cfa2109a-f350-4ae0-8b3c-833d556a80d9"
      },
      "execution_count": 68,
      "outputs": [
        {
          "output_type": "stream",
          "name": "stdout",
          "text": [
            "Drive already mounted at /content/drive; to attempt to forcibly remount, call drive.mount(\"/content/drive\", force_remount=True).\n"
          ]
        }
      ]
    },
    {
      "cell_type": "code",
      "execution_count": 69,
      "metadata": {
        "id": "IZVvZHqg3IZV"
      },
      "outputs": [],
      "source": [
        "#read csv file with header \n",
        "df = spark.read.csv('/content/drive/MyDrive/SaudiWeather.csv', header='true', inferSchema='true', sep=',')"
      ]
    },
    {
      "cell_type": "code",
      "execution_count": 70,
      "metadata": {
        "colab": {
          "base_uri": "https://localhost:8080/"
        },
        "id": "XO3_QdZyECqQ",
        "outputId": "8991b114-3348-4936-946f-0a62f3e53ab5"
      },
      "outputs": [
        {
          "output_type": "stream",
          "name": "stdout",
          "text": [
            "+----+--------------------+-----------+-------------------+----------+----------+---------+--------------------+---------+---------------+---------+-------------------+---------------+-------------------------+--------------------+-----+---+----+------+------+-----------+--------------+--------------------------+\n",
            "|YEAR|        station_name| station_id|   observation_date|  latitude| longitude|elevation|wind_direction_angle|wind_type|wind_speed_rate|sky_cavok|visibility_distance|air_temperature|air_temperature_dew_point|            GEOPOINT|month|day|hour|minute|season|Season_name|humidity_level|air_temperature_categories|\n",
            "+----+--------------------+-----------+-------------------+----------+----------+---------+--------------------+---------+---------------+---------+-------------------+---------------+-------------------------+--------------------+-----+---+----+------+------+-----------+--------------+--------------------------+\n",
            "|2022|             AL BAHA|41055099999|2022-12-10 00:00:00| 20.296139| 41.634277|  1672.13|                 350|   Normal|            4.6|      Yes|               9900|           17.0|                       14| 20.296139,41.634277|   12| 10|   0|     0|     3|       Fall|        31–36%|               comfortable|\n",
            "|2022|         AL-DAWADAMI|40435099999|2022-12-10 00:00:00|26.9833333|44.1166666|    923.0|                  80|   Normal|            9.3|       No|               7000|           16.1|                       11|26.9833333,44.116...|   12| 10|   0|     0|     3|       Fall|        26–30%|               comfortable|\n",
            "|2022|             AL AHSA|40420099999|2022-12-10 00:00:00| 25.285306| 49.485189|   179.22|                 340|   Normal|            2.6|      Yes|               9900|           17.0|                        7| 25.285306,49.485189|   12| 10|   0|     0|     3|       Fall| 25% and lower|               comfortable|\n",
            "|2022|              GASSIM|40405099999|2022-12-10 00:00:00|      26.3|43.7666666|    648.0|                 110|   Normal|            1.0|       No|               5000|           14.0|                       14|     26.3,43.7666666|   12| 10|   0|     0|     3|       Fall|        31–36%|                      cold|\n",
            "|2022|             AL JOUF|40361099999|2022-12-10 00:00:00| 29.785133| 40.100006|   689.15|                 130|   Normal|            5.1|      Yes|               9900|           13.0|                        6| 29.785133,40.100006|   12| 10|   0|     0|     3|       Fall| 25% and lower|                      cold|\n",
            "|2022|              GURIAT|40360099999|2022-12-10 00:00:00| 31.411942| 37.279469|   509.62|                 250|   Normal|            2.1|       No|              10000|           11.0|                        6| 31.411942,37.279469|   12| 10|   0|     0|     3|       Fall| 25% and lower|                      cold|\n",
            "|2022|     WADI AL DAWASIR|41061099999|2022-12-10 00:00:00| 20.504275| 45.199556|   628.49|                 120|   Normal|            6.2|       No|              10000|           20.0|                        9| 20.504275,45.199556|   12| 10|   0|     0|     3|       Fall| 25% and lower|               comfortable|\n",
            "|2022|                MINA|41031099999|2022-12-10 00:00:00|21.4166666|39.8666666|    394.0|                 360|   Normal|            2.6|       No|              10000|           24.8|                       16|21.4166666,39.866...|   12| 10|   0|     0|     3|       Fall|        31–36%|                      warm|\n",
            "|2022|PRINCE MOHAMMAD B...|40430099999|2022-12-10 00:00:00| 24.553422| 39.705061|   655.62|                  80|   Normal|            3.6|       No|               9000|           21.0|                       11| 24.553422,39.705061|   12| 10|   0|     0|     3|       Fall|        26–30%|               comfortable|\n",
            "|2022|              GASSIM|40405099999|2022-12-10 00:00:00|      26.3|43.7666666|    648.0|                 110|   Normal|            1.0|       No|               5000|           14.0|                       14|     26.3,43.7666666|   12| 10|   0|     0|     3|       Fall|        31–36%|                      cold|\n",
            "|2022|PRINCE ABDULMAJEE...|40401099999|2022-12-10 00:00:00|   26.2938|   38.0637|   623.01|                 360|   Normal|            2.1|       No|              10000|           20.3|                        5|     26.2938,38.0637|   12| 10|   0|     0|     3|       Fall| 25% and lower|               comfortable|\n",
            "|2022|            QAISUMAH|40373099999|2022-12-10 00:00:00| 28.335192| 46.125069|   357.83|                 350|   Normal|            2.1|      Yes|               9900|           14.0|                        6| 28.335192,46.125069|   12| 10|   0|     0|     3|       Fall| 25% and lower|                      cold|\n",
            "|2022|             AL JOUF|40361099999|2022-12-10 00:00:00| 29.785133| 40.100006|   689.15|                 130|   Normal|            5.1|       No|              10000|           13.0|                        6| 29.785133,40.100006|   12| 10|   0|     0|     3|       Fall| 25% and lower|                      cold|\n",
            "|2022|            SHARURAH|41136099999|2022-12-10 00:00:00| 17.466875| 47.121431|   720.24|                  80|   Normal|            5.7|      Yes|               9900|           21.0|                        7| 17.466875,47.121431|   12| 10|   0|     0|     3|       Fall| 25% and lower|               comfortable|\n",
            "|2022|     WADI AL DAWASIR|41061099999|2022-12-10 00:00:00| 20.504275| 45.199556|   628.49|                 120|   Normal|            6.2|      Yes|               9900|           20.0|                        9| 20.504275,45.199556|   12| 10|   0|     0|     3|       Fall| 25% and lower|               comfortable|\n",
            "|2022| KING ABDULAZIZ INTL|41024099999|2022-12-10 00:00:00| 21.679564| 39.156536|    14.63|                 350|   Normal|            1.5|       No|              10000|           24.8|                       17| 21.679564,39.156536|   12| 10|   0|     0|     3|       Fall|        37–43%|                      warm|\n",
            "|2022|               YENBO|40439099999|2022-12-10 00:00:00| 24.144244|  38.06335|     7.92|                 280|   Normal|            3.1|      Yes|               9900|           23.0|                       16|  24.144244,38.06335|   12| 10|   0|     0|     3|       Fall|        31–36%|               comfortable|\n",
            "|2022|             AL AHSA|40420099999|2022-12-10 00:00:00| 25.285306| 49.485189|   179.22|                 340|   Normal|            2.6|       No|              10000|           17.1|                        7| 25.285306,49.485189|   12| 10|   0|     0|     3|       Fall| 25% and lower|               comfortable|\n",
            "|2022|DAMMAM (KING FAHD...|40415099999|2022-12-10 00:00:00|26.4333333|      49.8|     12.0|                 300|   Normal|            5.7|       No|               9999|           19.0|                        9|     26.4333333,49.8|   12| 10|   0|     0|     3|       Fall| 25% and lower|               comfortable|\n",
            "|2022|PRINCE SALMAN BIN...|40414099999|2022-12-10 00:00:00| 24.449867| 44.121175|   922.32|                  80|   Normal|            9.3|       No|               7000|           16.0|                       11| 24.449867,44.121175|   12| 10|   0|     0|     3|       Fall|        26–30%|               comfortable|\n",
            "+----+--------------------+-----------+-------------------+----------+----------+---------+--------------------+---------+---------------+---------+-------------------+---------------+-------------------------+--------------------+-----+---+----+------+------+-----------+--------------+--------------------------+\n",
            "only showing top 20 rows\n",
            "\n"
          ]
        }
      ],
      "source": [
        "df.show()"
      ]
    },
    {
      "cell_type": "code",
      "execution_count": 71,
      "metadata": {
        "colab": {
          "base_uri": "https://localhost:8080/"
        },
        "id": "ET-a3yw-X0oF",
        "outputId": "919259b0-78e7-4a16-b85f-f3a6165d8abc"
      },
      "outputs": [
        {
          "output_type": "stream",
          "name": "stdout",
          "text": [
            "root\n",
            " |-- YEAR: integer (nullable = true)\n",
            " |-- station_name: string (nullable = true)\n",
            " |-- station_id: long (nullable = true)\n",
            " |-- observation_date: timestamp (nullable = true)\n",
            " |-- latitude: double (nullable = true)\n",
            " |-- longitude: double (nullable = true)\n",
            " |-- elevation: double (nullable = true)\n",
            " |-- wind_direction_angle: integer (nullable = true)\n",
            " |-- wind_type: string (nullable = true)\n",
            " |-- wind_speed_rate: double (nullable = true)\n",
            " |-- sky_cavok: string (nullable = true)\n",
            " |-- visibility_distance: integer (nullable = true)\n",
            " |-- air_temperature: double (nullable = true)\n",
            " |-- air_temperature_dew_point: integer (nullable = true)\n",
            " |-- GEOPOINT: string (nullable = true)\n",
            " |-- month: integer (nullable = true)\n",
            " |-- day: integer (nullable = true)\n",
            " |-- hour: integer (nullable = true)\n",
            " |-- minute: integer (nullable = true)\n",
            " |-- season: integer (nullable = true)\n",
            " |-- Season_name: string (nullable = true)\n",
            " |-- humidity_level: string (nullable = true)\n",
            " |-- air_temperature_categories: string (nullable = true)\n",
            "\n"
          ]
        }
      ],
      "source": [
        "df.printSchema()"
      ]
    },
    {
      "cell_type": "markdown",
      "source": [
        "***\n",
        "# ML Classification Section \n",
        "\n",
        "***"
      ],
      "metadata": {
        "id": "6yz8k6m7N5BD"
      }
    },
    {
      "cell_type": "markdown",
      "source": [
        "## Feature Engineering and Feature Selection"
      ],
      "metadata": {
        "id": "ar4WGd-fN1ps"
      }
    },
    {
      "cell_type": "markdown",
      "metadata": {
        "id": "ZxFqmuvUWe1C"
      },
      "source": [
        "Here we will encode all the categorical columns choosing as a features using StringIndexer and drop the original columns."
      ]
    },
    {
      "cell_type": "code",
      "execution_count": 72,
      "metadata": {
        "id": "fNUZjYQqWqOQ"
      },
      "outputs": [],
      "source": [
        "## define variable contain all columns needed\n",
        "\n",
        "cat_cols=['station_name','wind_type','sky_cavok','Season_name','humidity_level','air_temperature_categories']"
      ]
    },
    {
      "cell_type": "code",
      "execution_count": 73,
      "metadata": {
        "id": "T7mZ2KYWWd6l"
      },
      "outputs": [],
      "source": [
        "#This step will label encode all the categorical columns and store them in different columns with the same name + '_', \n",
        "\n",
        "for col in cat_cols:\n",
        "    indexer = StringIndexer(inputCol=col, outputCol=col+'_')\n",
        "    df = indexer.fit(df).transform(df) #here we fit and transform the data altogether\n",
        "    \n",
        "df = df.drop(*cat_cols) #we will drop all the categorical columns we defined earlier"
      ]
    },
    {
      "cell_type": "code",
      "execution_count": 74,
      "metadata": {
        "id": "oAg6arsRlcfR"
      },
      "outputs": [],
      "source": [
        "## drop unedded column in ML \n",
        "\n",
        "drop_cols = ['GEOPOINT' , 'station_id','observation_date']\n",
        "\n",
        "df = df.drop(*drop_cols)\n"
      ]
    },
    {
      "cell_type": "code",
      "source": [
        "df.show()"
      ],
      "metadata": {
        "colab": {
          "base_uri": "https://localhost:8080/"
        },
        "id": "8mh2azpdsf9K",
        "outputId": "5b2c84a2-c22b-4c61-9f6b-b1f0380b02d9"
      },
      "execution_count": 75,
      "outputs": [
        {
          "output_type": "stream",
          "name": "stdout",
          "text": [
            "+----+----------+----------+---------+--------------------+---------------+-------------------+---------------+-------------------------+-----+---+----+------+------+-------------+----------+----------+------------+---------------+---------------------------+\n",
            "|YEAR|  latitude| longitude|elevation|wind_direction_angle|wind_speed_rate|visibility_distance|air_temperature|air_temperature_dew_point|month|day|hour|minute|season|station_name_|wind_type_|sky_cavok_|Season_name_|humidity_level_|air_temperature_categories_|\n",
            "+----+----------+----------+---------+--------------------+---------------+-------------------+---------------+-------------------------+-----+---+----+------+------+-------------+----------+----------+------------+---------------+---------------------------+\n",
            "|2022| 20.296139| 41.634277|  1672.13|                 350|            4.6|               9900|           17.0|                       14|   12| 10|   0|     0|     3|         23.0|       0.0|       1.0|         3.0|            1.0|                        2.0|\n",
            "|2022|26.9833333|44.1166666|    923.0|                  80|            9.3|               7000|           16.1|                       11|   12| 10|   0|     0|     3|         29.0|       0.0|       0.0|         3.0|            2.0|                        2.0|\n",
            "|2022| 25.285306| 49.485189|   179.22|                 340|            2.6|               9900|           17.0|                        7|   12| 10|   0|     0|     3|         11.0|       0.0|       1.0|         3.0|            0.0|                        2.0|\n",
            "|2022|      26.3|43.7666666|    648.0|                 110|            1.0|               5000|           14.0|                       14|   12| 10|   0|     0|     3|          0.0|       0.0|       0.0|         3.0|            1.0|                        3.0|\n",
            "|2022| 29.785133| 40.100006|   689.15|                 130|            5.1|               9900|           13.0|                        6|   12| 10|   0|     0|     3|         12.0|       0.0|       1.0|         3.0|            0.0|                        3.0|\n",
            "|2022| 31.411942| 37.279469|   509.62|                 250|            2.1|              10000|           11.0|                        6|   12| 10|   0|     0|     3|         22.0|       0.0|       0.0|         3.0|            0.0|                        3.0|\n",
            "|2022| 20.504275| 45.199556|   628.49|                 120|            6.2|              10000|           20.0|                        9|   12| 10|   0|     0|     3|          4.0|       0.0|       0.0|         3.0|            0.0|                        2.0|\n",
            "|2022|21.4166666|39.8666666|    394.0|                 360|            2.6|              10000|           24.8|                       16|   12| 10|   0|     0|     3|         34.0|       0.0|       0.0|         3.0|            1.0|                        0.0|\n",
            "|2022| 24.553422| 39.705061|   655.62|                  80|            3.6|               9000|           21.0|                       11|   12| 10|   0|     0|     3|         18.0|       0.0|       0.0|         3.0|            2.0|                        2.0|\n",
            "|2022|      26.3|43.7666666|    648.0|                 110|            1.0|               5000|           14.0|                       14|   12| 10|   0|     0|     3|          0.0|       0.0|       0.0|         3.0|            1.0|                        3.0|\n",
            "|2022|   26.2938|   38.0637|   623.01|                 360|            2.1|              10000|           20.3|                        5|   12| 10|   0|     0|     3|         25.0|       0.0|       0.0|         3.0|            0.0|                        2.0|\n",
            "|2022| 28.335192| 46.125069|   357.83|                 350|            2.1|               9900|           14.0|                        6|   12| 10|   0|     0|     3|          9.0|       0.0|       1.0|         3.0|            0.0|                        3.0|\n",
            "|2022| 29.785133| 40.100006|   689.15|                 130|            5.1|              10000|           13.0|                        6|   12| 10|   0|     0|     3|         12.0|       0.0|       0.0|         3.0|            0.0|                        3.0|\n",
            "|2022| 17.466875| 47.121431|   720.24|                  80|            5.7|               9900|           21.0|                        7|   12| 10|   0|     0|     3|         14.0|       0.0|       1.0|         3.0|            0.0|                        2.0|\n",
            "|2022| 20.504275| 45.199556|   628.49|                 120|            6.2|               9900|           20.0|                        9|   12| 10|   0|     0|     3|          4.0|       0.0|       1.0|         3.0|            0.0|                        2.0|\n",
            "|2022| 21.679564| 39.156536|    14.63|                 350|            1.5|              10000|           24.8|                       17|   12| 10|   0|     0|     3|          6.0|       0.0|       0.0|         3.0|            5.0|                        0.0|\n",
            "|2022| 24.144244|  38.06335|     7.92|                 280|            3.1|               9900|           23.0|                       16|   12| 10|   0|     0|     3|         16.0|       0.0|       1.0|         3.0|            1.0|                        2.0|\n",
            "|2022| 25.285306| 49.485189|   179.22|                 340|            2.6|              10000|           17.1|                        7|   12| 10|   0|     0|     3|         11.0|       0.0|       0.0|         3.0|            0.0|                        2.0|\n",
            "|2022|26.4333333|      49.8|     12.0|                 300|            5.7|               9999|           19.0|                        9|   12| 10|   0|     0|     3|         15.0|       0.0|       0.0|         3.0|            0.0|                        2.0|\n",
            "|2022| 24.449867| 44.121175|   922.32|                  80|            9.3|               7000|           16.0|                       11|   12| 10|   0|     0|     3|         27.0|       0.0|       0.0|         3.0|            2.0|                        2.0|\n",
            "+----+----------+----------+---------+--------------------+---------------+-------------------+---------------+-------------------------+-----+---+----+------+------+-------------+----------+----------+------------+---------------+---------------------------+\n",
            "only showing top 20 rows\n",
            "\n"
          ]
        }
      ]
    },
    {
      "cell_type": "markdown",
      "metadata": {
        "id": "K2hHOri_WHFm"
      },
      "source": [
        ">> First Combining Feature Columns"
      ]
    },
    {
      "cell_type": "code",
      "execution_count": 76,
      "metadata": {
        "id": "xdypIAVAWMzX"
      },
      "outputs": [],
      "source": [
        "#define columns\n",
        "cols = df.columns\n",
        "cols.remove('air_temperature_categories_') #remove air_temperature_categories_ -> we need this to be our label\n",
        "\n",
        "#vector assembler will take all the columns and convert them into one column called features\n",
        "assembler = VectorAssembler(inputCols=cols, outputCol='features')\n",
        "\n",
        "#the .transform will apply the changes here\n",
        "df = assembler.transform(df)"
      ]
    },
    {
      "cell_type": "code",
      "execution_count": 77,
      "metadata": {
        "id": "eRTkuq8DuEw-"
      },
      "outputs": [],
      "source": [
        "#Initialize Standard Scaler\n",
        "stdScaler = StandardScaler(inputCol=\"features\", outputCol=\"features_scaled\")\n",
        "\n",
        "#Fit the Standard Scaler to the indexed Dataframe\n",
        "scaler = stdScaler.fit(df)\n",
        "\n",
        "#Transform the dataframe\n",
        "df_scaled =scaler.transform(df)"
      ]
    },
    {
      "cell_type": "code",
      "execution_count": 78,
      "metadata": {
        "colab": {
          "base_uri": "https://localhost:8080/"
        },
        "id": "ssrbDNDBuflQ",
        "outputId": "5c08b504-d344-4cf6-8344-c69863dc36db"
      },
      "outputs": [
        {
          "output_type": "stream",
          "name": "stdout",
          "text": [
            "+----+----------+----------+---------+--------------------+---------------+-------------------+---------------+-------------------------+-----+---+----+------+------+-------------+----------+----------+------------+---------------+---------------------------+--------------------+\n",
            "|YEAR|  latitude| longitude|elevation|wind_direction_angle|wind_speed_rate|visibility_distance|air_temperature|air_temperature_dew_point|month|day|hour|minute|season|station_name_|wind_type_|sky_cavok_|Season_name_|humidity_level_|air_temperature_categories_|            features|\n",
            "+----+----------+----------+---------+--------------------+---------------+-------------------+---------------+-------------------------+-----+---+----+------+------+-------------+----------+----------+------------+---------------+---------------------------+--------------------+\n",
            "|2022| 20.296139| 41.634277|  1672.13|                 350|            4.6|               9900|           17.0|                       14|   12| 10|   0|     0|     3|         23.0|       0.0|       1.0|         3.0|            1.0|                        2.0|[2022.0,20.296139...|\n",
            "|2022|26.9833333|44.1166666|    923.0|                  80|            9.3|               7000|           16.1|                       11|   12| 10|   0|     0|     3|         29.0|       0.0|       0.0|         3.0|            2.0|                        2.0|[2022.0,26.983333...|\n",
            "|2022| 25.285306| 49.485189|   179.22|                 340|            2.6|               9900|           17.0|                        7|   12| 10|   0|     0|     3|         11.0|       0.0|       1.0|         3.0|            0.0|                        2.0|[2022.0,25.285306...|\n",
            "|2022|      26.3|43.7666666|    648.0|                 110|            1.0|               5000|           14.0|                       14|   12| 10|   0|     0|     3|          0.0|       0.0|       0.0|         3.0|            1.0|                        3.0|[2022.0,26.3,43.7...|\n",
            "|2022| 29.785133| 40.100006|   689.15|                 130|            5.1|               9900|           13.0|                        6|   12| 10|   0|     0|     3|         12.0|       0.0|       1.0|         3.0|            0.0|                        3.0|[2022.0,29.785133...|\n",
            "+----+----------+----------+---------+--------------------+---------------+-------------------+---------------+-------------------------+-----+---+----+------+------+-------------+----------+----------+------------+---------------+---------------------------+--------------------+\n",
            "only showing top 5 rows\n",
            "\n"
          ]
        }
      ],
      "source": [
        "#show database after scaled\n",
        "df.show(5)"
      ]
    },
    {
      "cell_type": "markdown",
      "metadata": {
        "id": "Ab_SFd3Lse5F"
      },
      "source": [
        "## Split Data"
      ]
    },
    {
      "cell_type": "markdown",
      "metadata": {
        "id": "c30X-Nah2W-b"
      },
      "source": [
        ">> Just like always, before building a model we shall split our scaled dataset into training & test sets. Training Dataset = 80% Test Dataset = 20%"
      ]
    },
    {
      "cell_type": "code",
      "execution_count": 79,
      "metadata": {
        "id": "jFf433rTl2oV"
      },
      "outputs": [],
      "source": [
        "# We have created a new dataframe only consisting of the features column and the label column \n",
        "df_data = df_scaled.select(F.col('features_scaled'), F.col('air_temperature_categories_').alias('label'))\n",
        "\n",
        "#simple data splitting\n",
        "df_train, df_test = df_data.randomSplit([0.8, 0.2])"
      ]
    },
    {
      "cell_type": "code",
      "execution_count": 80,
      "metadata": {
        "colab": {
          "base_uri": "https://localhost:8080/"
        },
        "id": "Ee-OMwzUuwm3",
        "outputId": "c6ab84b0-a19e-4c84-956c-18716d700895"
      },
      "outputs": [
        {
          "output_type": "stream",
          "name": "stdout",
          "text": [
            "+--------------------+-----+\n",
            "|     features_scaled|label|\n",
            "+--------------------+-----+\n",
            "|[1288.69145462652...|  2.0|\n",
            "|[1288.69145462652...|  2.0|\n",
            "|[1288.69145462652...|  2.0|\n",
            "|[1288.69145462652...|  3.0|\n",
            "|[1288.69145462652...|  3.0|\n",
            "|[1288.69145462652...|  3.0|\n",
            "|[1288.69145462652...|  2.0|\n",
            "|[1288.69145462652...|  0.0|\n",
            "|[1288.69145462652...|  2.0|\n",
            "|[1288.69145462652...|  3.0|\n",
            "|[1288.69145462652...|  2.0|\n",
            "|[1288.69145462652...|  3.0|\n",
            "|[1288.69145462652...|  3.0|\n",
            "|[1288.69145462652...|  2.0|\n",
            "|[1288.69145462652...|  2.0|\n",
            "|[1288.69145462652...|  0.0|\n",
            "|[1288.69145462652...|  2.0|\n",
            "|[1288.69145462652...|  2.0|\n",
            "|[1288.69145462652...|  2.0|\n",
            "|[1288.69145462652...|  2.0|\n",
            "+--------------------+-----+\n",
            "only showing top 20 rows\n",
            "\n"
          ]
        }
      ],
      "source": [
        "df_data.show()"
      ]
    },
    {
      "cell_type": "markdown",
      "metadata": {
        "id": "sqh-OndHCBEr"
      },
      "source": [
        ">> define evaluater for **multiclassclassification** "
      ]
    },
    {
      "cell_type": "code",
      "execution_count": 81,
      "metadata": {
        "id": "VbhIV8LwCGqg"
      },
      "outputs": [],
      "source": [
        "#define evaluater\n",
        "evaluator = MulticlassClassificationEvaluator(labelCol=\"label\", predictionCol=\"prediction\", metricName=\"accuracy\")"
      ]
    },
    {
      "cell_type": "markdown",
      "metadata": {
        "id": "qTwkfOrWswkW"
      },
      "source": [
        "## Train and Evaluation Models\n",
        "\n"
      ]
    },
    {
      "cell_type": "markdown",
      "source": [
        "### 1st Classification Model: **Logistic Regression**"
      ],
      "metadata": {
        "id": "wHf51FcNxbyJ"
      }
    },
    {
      "cell_type": "code",
      "execution_count": 82,
      "metadata": {
        "colab": {
          "base_uri": "https://localhost:8080/"
        },
        "id": "S_THCPJLmFRm",
        "outputId": "b1014c2f-3d9f-49d6-decb-e40c560c59fe"
      },
      "outputs": [
        {
          "output_type": "stream",
          "name": "stdout",
          "text": [
            "+-------------------------------------------------------------------------------------------------------------------------------------------------------------------------------------------------------------------------------------------------------------------------------------------------------------------------------------------+-----+------------------------------------------------------------------------------+--------------------------------------------------------------------------------------+----------+\n",
            "|features_scaled                                                                                                                                                                                                                                                                                                                            |label|rawPrediction                                                                 |probability                                                                           |prediction|\n",
            "+-------------------------------------------------------------------------------------------------------------------------------------------------------------------------------------------------------------------------------------------------------------------------------------------------------------------------------------------+-----+------------------------------------------------------------------------------+--------------------------------------------------------------------------------------+----------+\n",
            "|(19,[0,1,2,3,4,5,6,7,9,10,17],[1288.691454626522,5.970844001351544,11.320917795754413,1.1466549813034426,0.3707065467940681,1.5587079657555862,5.75685742699869,1.811665669287248,0.8912863566172233,3.2945738607178736,1.7781263752773948])                                                                                               |2.0  |[2.754729655178039,-38.649560667321836,18.056913731261837,17.837917280881953] |[1.2539260949399184E-7,1.3080282575227316E-25,0.5545312759776274,0.4454685986297631]  |2.0       |\n",
            "|(19,[0,1,2,3,4,5,6,7,9,10,17],[1288.691454626522,5.970844001351544,11.320917795754413,1.1466549813034426,1.4828261871762725,0.4329744349321073,5.75685742699869,1.2455201476349829,0.5941909044114823,1.704089927957521,1.7781263752773948])                                                                                               |3.0  |[0.02372050063845421,-54.00700534393209,24.724964514184116,29.25832032910953] |[1.9903671800446692E-13,6.818472830187036E-37,0.010630340437076053,0.9893696595627249]|3.0       |\n",
            "|[1287.4167845428162,3.837030312947779,11.01547712241639,0.010776433389101798,0.09267663669851703,0.6494616523981609,2.5905858421494106,3.39687312991359,3.194717541576356,2.67385906985167,2.7265438847320334,0.4458491117843232,0.0,1.8175799183501722,0.11823547270259757,0.0,0.0,0.0,4.0378516486131515]                                |0.0  |[15.318218206523287,11.236022045799974,-3.480442347109983,-23.07379790521328] |[0.9834095062264565,0.016590487034785575,6.7387579394109075E-9,2.085900823959479E-17] |0.0       |\n",
            "|[1287.4167845428162,3.837030312947779,11.01547712241639,0.010776433389101798,0.09267663669851703,0.6494616523981609,5.181171684298821,3.5101022342440427,2.83974892584565,2.9709545220574114,2.6129378895348654,3.1209437824902624,0.0,2.7263698775252583,0.11823547270259757,0.0,0.0,2.667189562916092,1.7305078494056363]                |0.0  |[14.233503553891108,12.278460725751051,-4.278270405396407,-22.23369387424571] |[0.8759954636077273,0.12400452839502424,7.997248228493255E-9,1.2735008631039613E-16]  |0.0       |\n",
            "|[1287.4167845428162,3.837030312947779,11.01547712241639,0.010776433389101798,0.09267663669851703,0.6494616523981609,5.699288852728703,3.170414921252684,2.7214260539354145,2.9709545220574114,2.4993318943376974,0.2972327411895488,0.0,2.7263698775252583,0.11823547270259757,0.0,2.0449341277410964,2.667189562916092,1.7305078494056363]|0.0  |[11.416796603541457,-0.6327154441170695,1.4693209357297543,-12.25340209515414]|[0.9999463071559008,5.8470941773735956E-6,4.784569742421976E-5,5.249766660271874E-11] |0.0       |\n",
            "|[1287.4167845428162,3.837030312947779,11.01547712241639,0.010776433389101798,0.09267663669851703,0.6494616523981609,5.699288852728703,3.39687312991359,2.9580717977558852,2.9709545220574114,1.3632719423660167,3.418176523679811,0.0,2.7263698775252583,0.11823547270259757,0.0,2.0449341277410964,2.667189562916092,3.4610156988112726]  |0.0  |[13.450141051176619,8.096474729210268,-2.6732634090637806,-18.873352371323094]|[0.9952914016929455,0.004708499304886264,9.900215900505295E-8,9.120852300606993E-15]  |0.0       |\n",
            "|[1287.4167845428162,3.837030312947779,11.01547712241639,0.010776433389101798,0.09267663669851703,0.6494616523981609,5.699288852728703,3.5101022342440427,3.076394669666121,2.67385906985167,2.3857258991405295,3.2695601530850364,0.0,1.8175799183501722,0.11823547270259757,0.0,2.0449341277410964,0.0,3.4610156988112726]                |0.0  |[16.78482189766613,16.677755099039718,-6.1210220336003625,-27.34155496310546] |[0.5267411593449034,0.4732588405957063,5.939031552786541E-11,3.6120626821715914E-20]  |0.0       |\n",
            "+-------------------------------------------------------------------------------------------------------------------------------------------------------------------------------------------------------------------------------------------------------------------------------------------------------------------------------------------+-----+------------------------------------------------------------------------------+--------------------------------------------------------------------------------------+----------+\n",
            "only showing top 7 rows\n",
            "\n"
          ]
        }
      ],
      "source": [
        "# -- LogisticRegression --\n",
        "\n",
        "lr= LogisticRegression(featuresCol='features_scaled', labelCol='label',  maxIter=10, tol=1E-6, fitIntercept=True)\n",
        "\n",
        "\n",
        "# train the multiclass model.\n",
        "lr_model= lr.fit(df_train)\n",
        "\n",
        "#train the model\n",
        "lr_pred= lr_model.transform(df_test)\n",
        "\n",
        "lr_pred.show(7,False)\n"
      ]
    },
    {
      "cell_type": "code",
      "source": [
        "#Evaluate the LogisticRegression Model\n",
        "\n",
        "lr_acc = evaluator.evaluate(lr_pred)\n",
        "\n",
        "#print accuracy\n",
        "print(\"Logistic regression accuracy =\", '{:.2%}'.format(lr_acc))\n",
        "print(\"Test Error = \" ,'{:.2%}'.format (1.0 - lr_acc))"
      ],
      "metadata": {
        "colab": {
          "base_uri": "https://localhost:8080/"
        },
        "id": "2KyDDCO7Mzp9",
        "outputId": "e8137c49-4993-43a2-e9c7-2c2be8abb57d"
      },
      "execution_count": 83,
      "outputs": [
        {
          "output_type": "stream",
          "name": "stdout",
          "text": [
            "Logistic regression accuracy = 93.77%\n",
            "Test Error =  6.23%\n"
          ]
        }
      ]
    },
    {
      "cell_type": "markdown",
      "metadata": {
        "id": "jFK296zBug7u"
      },
      "source": [
        "### 2nd Classification Model : **Random Forest Classification** \n"
      ]
    },
    {
      "cell_type": "code",
      "execution_count": 84,
      "metadata": {
        "id": "ALW0DPDF_Ctj"
      },
      "outputs": [],
      "source": [
        "# -- Random Forest Classifier --\n",
        "\n",
        "rfc= RandomForestClassifier(labelCol=\"label\", featuresCol=\"features_scaled\", numTrees=10)\n",
        "\n",
        "#instantiate the model\n",
        "rfcـmodel= rfc.fit(df_train)\n",
        "\n",
        "#train the model\n",
        "rfc_pred= rfcـmodel.transform(df_test)\n"
      ]
    },
    {
      "cell_type": "code",
      "source": [
        "#Evaluate the **Random Forest Classification** Model\n",
        "\n",
        "rfc_acc = evaluator.evaluate(rfc_pred)\n",
        "\n",
        "#print accuracy\n",
        "print(\"Random Forest Classification accuracy =\", '{:.2%}'.format(rfc_acc))\n",
        "print(\"Test Error = \" ,'{:.2%}'.format (1.0 - rfc_acc))"
      ],
      "metadata": {
        "colab": {
          "base_uri": "https://localhost:8080/"
        },
        "id": "wn-iK9N4M6Dg",
        "outputId": "3ebbd65c-afa9-4a0d-ac9b-5a839325e30d"
      },
      "execution_count": 85,
      "outputs": [
        {
          "output_type": "stream",
          "name": "stdout",
          "text": [
            "Random Forest Classification accuracy = 95.56%\n",
            "Test Error =  4.44%\n"
          ]
        }
      ]
    },
    {
      "cell_type": "markdown",
      "metadata": {
        "id": "xvFI9DEtuXvw"
      },
      "source": [
        "### 3rd Classification Model: **Decision Tree Classifier**"
      ]
    },
    {
      "cell_type": "code",
      "execution_count": 86,
      "metadata": {
        "id": "GAoyDH5-u1PZ"
      },
      "outputs": [],
      "source": [
        "# -- Decision Tree Classifier --\n",
        "\n",
        "dtc = DecisionTreeClassifier(labelCol=\"label\", featuresCol=\"features_scaled\")          \n",
        "\n",
        "#instantiate the model\n",
        "dtc_model = dtc.fit(df_train)                                                        \n",
        "\n",
        "#train the model\n",
        "dtc_pred = dtc_model.transform(df_test)\n"
      ]
    },
    {
      "cell_type": "code",
      "source": [
        "#Evaluate the **Decision Tree Classifier** Model\n",
        "\n",
        "dtc_acc = evaluator.evaluate(dtc_pred)\n",
        "\n",
        "#print accuracy\n",
        "print(\"Decision Tree Classifier accuracy =\", '{:.2%}'.format(dtc_acc))\n",
        "print(\"Test Error = \" ,'{:.2%}'.format (1.0 - dtc_acc))"
      ],
      "metadata": {
        "colab": {
          "base_uri": "https://localhost:8080/"
        },
        "id": "uRFJtqjDNEUe",
        "outputId": "0074d293-61b3-46e6-a799-6af9cf776a1d"
      },
      "execution_count": 87,
      "outputs": [
        {
          "output_type": "stream",
          "name": "stdout",
          "text": [
            "Decision Tree Classifier accuracy = 99.48%\n",
            "Test Error =  0.52%\n"
          ]
        }
      ]
    },
    {
      "cell_type": "markdown",
      "metadata": {
        "id": "5tsonHy8nkdT"
      },
      "source": [
        "## Show ML Evaluation as Dataframe\n"
      ]
    },
    {
      "cell_type": "code",
      "execution_count": 88,
      "metadata": {
        "id": "CAUuhT5QnkdT"
      },
      "outputs": [],
      "source": [
        "# Accuracy Metric\n",
        "evaluator_A = MulticlassClassificationEvaluator(labelCol=\"label\", predictionCol=\"prediction\", metricName=\"accuracy\")\n",
        "\n",
        "# F1 Metric\n",
        "evaluator_F = MulticlassClassificationEvaluator(labelCol=\"label\", predictionCol=\"prediction\", metricName=\"f1\")\n",
        "\n",
        "# Weighted Precision\n",
        "evaluator_P = MulticlassClassificationEvaluator(labelCol=\"label\", predictionCol=\"prediction\", metricName=\"weightedPrecision\")\n",
        "\n",
        "# Weighted Recall\n",
        "evaluator_R = MulticlassClassificationEvaluator(labelCol=\"label\", predictionCol=\"prediction\", metricName=\"weightedRecall\")\n",
        "\n",
        "# Our models\n",
        "models = [lr_pred,rfc_pred, dtc_pred]\n",
        "\n",
        "# Empty lists that will store the scores for each metric for each model.\n",
        "accuracy = []\n",
        "F1 = []\n",
        "precision = []\n",
        "recall = []\n",
        "\n",
        "# Simple loop to populate the empty lists with scores of models for each metric.\n",
        "for model in models:\n",
        "    accuracy.append(evaluator_A.evaluate(model))\n",
        "    F1.append(evaluator_F.evaluate(model))\n",
        "    precision.append(evaluator_P.evaluate(model))\n",
        "    recall.append(evaluator_R.evaluate(model))"
      ]
    },
    {
      "cell_type": "code",
      "execution_count": 89,
      "metadata": {
        "id": "JfD1Q8mcO93K"
      },
      "outputs": [],
      "source": [
        "# Now will convert all lists created above into a dataframe for easy viewing.\n",
        "df_ev = pd.DataFrame(list(zip(accuracy, F1, precision, recall)), \n",
        "                     columns = ['Accuracy', 'F1-Score', 'Weighted Precision', 'Weighted Recall'],\n",
        "                     index = ['Logistic Regression','Random Forest', 'Random Decision Tree'])"
      ]
    },
    {
      "cell_type": "code",
      "execution_count": 90,
      "metadata": {
        "colab": {
          "base_uri": "https://localhost:8080/",
          "height": 142
        },
        "id": "S_oNpJ8aPCIP",
        "outputId": "5ca271f2-a838-4191-e7c5-1ad547015106"
      },
      "outputs": [
        {
          "output_type": "execute_result",
          "data": {
            "text/plain": [
              "                      Accuracy  F1-Score  Weighted Precision  Weighted Recall\n",
              "Logistic Regression   0.937688  0.937688            0.937717         0.937688\n",
              "Random Forest         0.955556  0.953363            0.960361         0.955556\n",
              "Random Decision Tree  0.994792  0.994817            0.994983         0.994792"
            ],
            "text/html": [
              "\n",
              "  <div id=\"df-8f750ff2-4622-448b-9ba0-bd763f2a28b7\">\n",
              "    <div class=\"colab-df-container\">\n",
              "      <div>\n",
              "<style scoped>\n",
              "    .dataframe tbody tr th:only-of-type {\n",
              "        vertical-align: middle;\n",
              "    }\n",
              "\n",
              "    .dataframe tbody tr th {\n",
              "        vertical-align: top;\n",
              "    }\n",
              "\n",
              "    .dataframe thead th {\n",
              "        text-align: right;\n",
              "    }\n",
              "</style>\n",
              "<table border=\"1\" class=\"dataframe\">\n",
              "  <thead>\n",
              "    <tr style=\"text-align: right;\">\n",
              "      <th></th>\n",
              "      <th>Accuracy</th>\n",
              "      <th>F1-Score</th>\n",
              "      <th>Weighted Precision</th>\n",
              "      <th>Weighted Recall</th>\n",
              "    </tr>\n",
              "  </thead>\n",
              "  <tbody>\n",
              "    <tr>\n",
              "      <th>Logistic Regression</th>\n",
              "      <td>0.937688</td>\n",
              "      <td>0.937688</td>\n",
              "      <td>0.937717</td>\n",
              "      <td>0.937688</td>\n",
              "    </tr>\n",
              "    <tr>\n",
              "      <th>Random Forest</th>\n",
              "      <td>0.955556</td>\n",
              "      <td>0.953363</td>\n",
              "      <td>0.960361</td>\n",
              "      <td>0.955556</td>\n",
              "    </tr>\n",
              "    <tr>\n",
              "      <th>Random Decision Tree</th>\n",
              "      <td>0.994792</td>\n",
              "      <td>0.994817</td>\n",
              "      <td>0.994983</td>\n",
              "      <td>0.994792</td>\n",
              "    </tr>\n",
              "  </tbody>\n",
              "</table>\n",
              "</div>\n",
              "      <button class=\"colab-df-convert\" onclick=\"convertToInteractive('df-8f750ff2-4622-448b-9ba0-bd763f2a28b7')\"\n",
              "              title=\"Convert this dataframe to an interactive table.\"\n",
              "              style=\"display:none;\">\n",
              "        \n",
              "  <svg xmlns=\"http://www.w3.org/2000/svg\" height=\"24px\"viewBox=\"0 0 24 24\"\n",
              "       width=\"24px\">\n",
              "    <path d=\"M0 0h24v24H0V0z\" fill=\"none\"/>\n",
              "    <path d=\"M18.56 5.44l.94 2.06.94-2.06 2.06-.94-2.06-.94-.94-2.06-.94 2.06-2.06.94zm-11 1L8.5 8.5l.94-2.06 2.06-.94-2.06-.94L8.5 2.5l-.94 2.06-2.06.94zm10 10l.94 2.06.94-2.06 2.06-.94-2.06-.94-.94-2.06-.94 2.06-2.06.94z\"/><path d=\"M17.41 7.96l-1.37-1.37c-.4-.4-.92-.59-1.43-.59-.52 0-1.04.2-1.43.59L10.3 9.45l-7.72 7.72c-.78.78-.78 2.05 0 2.83L4 21.41c.39.39.9.59 1.41.59.51 0 1.02-.2 1.41-.59l7.78-7.78 2.81-2.81c.8-.78.8-2.07 0-2.86zM5.41 20L4 18.59l7.72-7.72 1.47 1.35L5.41 20z\"/>\n",
              "  </svg>\n",
              "      </button>\n",
              "      \n",
              "  <style>\n",
              "    .colab-df-container {\n",
              "      display:flex;\n",
              "      flex-wrap:wrap;\n",
              "      gap: 12px;\n",
              "    }\n",
              "\n",
              "    .colab-df-convert {\n",
              "      background-color: #E8F0FE;\n",
              "      border: none;\n",
              "      border-radius: 50%;\n",
              "      cursor: pointer;\n",
              "      display: none;\n",
              "      fill: #1967D2;\n",
              "      height: 32px;\n",
              "      padding: 0 0 0 0;\n",
              "      width: 32px;\n",
              "    }\n",
              "\n",
              "    .colab-df-convert:hover {\n",
              "      background-color: #E2EBFA;\n",
              "      box-shadow: 0px 1px 2px rgba(60, 64, 67, 0.3), 0px 1px 3px 1px rgba(60, 64, 67, 0.15);\n",
              "      fill: #174EA6;\n",
              "    }\n",
              "\n",
              "    [theme=dark] .colab-df-convert {\n",
              "      background-color: #3B4455;\n",
              "      fill: #D2E3FC;\n",
              "    }\n",
              "\n",
              "    [theme=dark] .colab-df-convert:hover {\n",
              "      background-color: #434B5C;\n",
              "      box-shadow: 0px 1px 3px 1px rgba(0, 0, 0, 0.15);\n",
              "      filter: drop-shadow(0px 1px 2px rgba(0, 0, 0, 0.3));\n",
              "      fill: #FFFFFF;\n",
              "    }\n",
              "  </style>\n",
              "\n",
              "      <script>\n",
              "        const buttonEl =\n",
              "          document.querySelector('#df-8f750ff2-4622-448b-9ba0-bd763f2a28b7 button.colab-df-convert');\n",
              "        buttonEl.style.display =\n",
              "          google.colab.kernel.accessAllowed ? 'block' : 'none';\n",
              "\n",
              "        async function convertToInteractive(key) {\n",
              "          const element = document.querySelector('#df-8f750ff2-4622-448b-9ba0-bd763f2a28b7');\n",
              "          const dataTable =\n",
              "            await google.colab.kernel.invokeFunction('convertToInteractive',\n",
              "                                                     [key], {});\n",
              "          if (!dataTable) return;\n",
              "\n",
              "          const docLinkHtml = 'Like what you see? Visit the ' +\n",
              "            '<a target=\"_blank\" href=https://colab.research.google.com/notebooks/data_table.ipynb>data table notebook</a>'\n",
              "            + ' to learn more about interactive tables.';\n",
              "          element.innerHTML = '';\n",
              "          dataTable['output_type'] = 'display_data';\n",
              "          await google.colab.output.renderOutput(dataTable, element);\n",
              "          const docLink = document.createElement('div');\n",
              "          docLink.innerHTML = docLinkHtml;\n",
              "          element.appendChild(docLink);\n",
              "        }\n",
              "      </script>\n",
              "    </div>\n",
              "  </div>\n",
              "  "
            ]
          },
          "metadata": {},
          "execution_count": 90
        }
      ],
      "source": [
        "#print the final form of result tabel\n",
        "\n",
        "df_ev"
      ]
    },
    {
      "cell_type": "markdown",
      "metadata": {
        "id": "fEUrdHRYpLCA"
      },
      "source": [
        "## Model Optimization - Hyperparameter Tuning "
      ]
    },
    {
      "cell_type": "markdown",
      "metadata": {
        "id": "MiOcO7TgKwgc"
      },
      "source": [
        "### Grid Search-- **1: Logistic Regression** "
      ]
    },
    {
      "cell_type": "code",
      "execution_count": 91,
      "metadata": {
        "colab": {
          "base_uri": "https://localhost:8080/"
        },
        "id": "GeaWFcScKwr2",
        "outputId": "e1a814e9-24fb-4474-ac11-d00c8ff07b93"
      },
      "outputs": [
        {
          "output_type": "stream",
          "name": "stdout",
          "text": [
            "Best Model Test Area Under ROC 0.9415927522744107\n"
          ]
        }
      ],
      "source": [
        "# Create ParamGrid for Cross Validation\n",
        "\n",
        "LrParamGrid = (ParamGridBuilder().addGrid(lr.regParam, [0.01, 0.5, 2]).addGrid(lr.elasticNetParam, [0.0, 0.5,1.0]).addGrid(lr.maxIter,[1,5,10]).build())\n",
        "lr_cv = CrossValidator(estimator=lr, estimatorParamMaps=LrParamGrid, evaluator=evaluator, numFolds=5)\n",
        "lr_cvModel= lr_cv.fit(df_train)\n",
        "\n",
        "#Best Model Performance\n",
        "Lr_Predictions= lr_cvModel.transform(df_test)\n",
        "print(\"Best Model Test Area Under ROC\", evaluator.evaluate(Lr_Predictions))  \n"
      ]
    },
    {
      "cell_type": "markdown",
      "metadata": {
        "id": "aCMKXnBGKOrs"
      },
      "source": [
        "### Grid Search-- **2: Random Forest Classifier** "
      ]
    },
    {
      "cell_type": "code",
      "execution_count": 92,
      "metadata": {
        "colab": {
          "base_uri": "https://localhost:8080/"
        },
        "id": "JsZzq1bi_Ctm",
        "outputId": "7a44c4c3-c214-407f-d368-122566586024"
      },
      "outputs": [
        {
          "output_type": "stream",
          "name": "stdout",
          "text": [
            "Best Model Test Area Under ROC 0.9980285274733623\n"
          ]
        }
      ],
      "source": [
        "ParamGrid = (ParamGridBuilder().addGrid(rfc.numTrees, [10,15,20]).addGrid(rfc.maxDepth, [10,15,20]).addGrid(rfc.maxBins, [30,40,50]).build())\n",
        "cv = CrossValidator(estimator=rfc, estimatorParamMaps=ParamGrid, evaluator=evaluator, numFolds=5)\n",
        "rfc_cvModel= cv.fit(df_train)\n",
        "\n",
        "#Best Model Performance\n",
        "Predictions= rfc_cvModel.transform(df_test)\n",
        "print(\"Best Model Test Area Under ROC\", evaluator.evaluate(Predictions))"
      ]
    },
    {
      "cell_type": "markdown",
      "metadata": {
        "id": "qLOjuMNfLEE1"
      },
      "source": [
        "### Grid Search-- **3: Decision Tree Classifier** "
      ]
    },
    {
      "cell_type": "code",
      "execution_count": 93,
      "metadata": {
        "colab": {
          "base_uri": "https://localhost:8080/"
        },
        "id": "7T-HNHNV_Ctm",
        "outputId": "8dcc357c-32d1-4afc-9b04-ed94a998f9f8"
      },
      "outputs": [
        {
          "output_type": "stream",
          "name": "stdout",
          "text": [
            "Best Model Test Area Under ROC 0.9961368255113863\n"
          ]
        }
      ],
      "source": [
        "# Create ParamGrid for Cross Validation\n",
        "\n",
        "DtcParamGrid = (ParamGridBuilder().addGrid(dtc.maxDepth, [2,3,5,10,15, 20]).addGrid(dtc.maxBins, [5,10,20,30,40,50]).build())\n",
        "\n",
        "# Create CrossValidator\n",
        "\n",
        "dtc_cv = CrossValidator(estimator=dtc, estimatorParamMaps=DtcParamGrid, evaluator=evaluator, numFolds=5)\n",
        "dtc_cvModel= dtc_cv.fit(df_train)\n",
        "\n",
        "#Best Model Performance\n",
        "DtPredictions= dtc_cvModel.transform(df_test)\n",
        "print(\"Best Model Test Area Under ROC\", evaluator.evaluate(DtPredictions))"
      ]
    }
  ],
  "metadata": {
    "colab": {
      "provenance": []
    },
    "gpuClass": "standard",
    "kernelspec": {
      "display_name": "Python 3 (ipykernel)",
      "language": "python",
      "name": "python3"
    },
    "language_info": {
      "codemirror_mode": {
        "name": "ipython",
        "version": 3
      },
      "file_extension": ".py",
      "mimetype": "text/x-python",
      "name": "python",
      "nbconvert_exporter": "python",
      "pygments_lexer": "ipython3",
      "version": "3.9.13"
    }
  },
  "nbformat": 4,
  "nbformat_minor": 0
}