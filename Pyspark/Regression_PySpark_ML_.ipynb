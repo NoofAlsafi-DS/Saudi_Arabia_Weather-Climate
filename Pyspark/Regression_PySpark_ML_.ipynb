{
  "cells": [
    {
      "cell_type": "markdown",
      "metadata": {
        "id": "vRBjG71s_Cta"
      },
      "source": [
        "\n",
        "***\n",
        "# Regression - ML Section\n",
        "\n",
        "***\n"
      ]
    },
    {
      "cell_type": "markdown",
      "metadata": {
        "id": "mHyPnM3G_Ctb"
      },
      "source": [
        "## Importing Packages "
      ]
    },
    {
      "cell_type": "code",
      "execution_count": null,
      "metadata": {
        "colab": {
          "background_save": true,
          "base_uri": "https://localhost:8080/"
        },
        "id": "55OIc1zX5l29",
        "outputId": "9c942588-2b27-409e-fdc6-7a63b76e9eb6"
      },
      "outputs": [
        {
          "name": "stdout",
          "output_type": "stream",
          "text": [
            "Looking in indexes: https://pypi.org/simple, https://us-python.pkg.dev/colab-wheels/public/simple/\n",
            "Collecting pyspark\n",
            "  Downloading pyspark-3.3.1.tar.gz (281.4 MB)\n",
            "\u001b[K     |████████████████████████████████| 281.4 MB 41 kB/s \n",
            "\u001b[?25hCollecting py4j==0.10.9.5\n",
            "  Downloading py4j-0.10.9.5-py2.py3-none-any.whl (199 kB)\n",
            "\u001b[K     |████████████████████████████████| 199 kB 49.9 MB/s \n",
            "\u001b[?25hBuilding wheels for collected packages: pyspark\n",
            "  Building wheel for pyspark (setup.py) ... \u001b[?25l\u001b[?25hdone\n",
            "  Created wheel for pyspark: filename=pyspark-3.3.1-py2.py3-none-any.whl size=281845512 sha256=f16d81012740b855645abed0a27c233ea46050661b91eeaf1b9f4a7c14f77e6b\n",
            "  Stored in directory: /root/.cache/pip/wheels/43/dc/11/ec201cd671da62fa9c5cc77078235e40722170ceba231d7598\n",
            "Successfully built pyspark\n",
            "Installing collected packages: py4j, pyspark\n",
            "Successfully installed py4j-0.10.9.5 pyspark-3.3.1\n"
          ]
        }
      ],
      "source": [
        " pip install pyspark "
      ]
    },
    {
      "cell_type": "code",
      "execution_count": null,
      "metadata": {
        "colab": {
          "background_save": true
        },
        "id": "y7dQc4oDc0fz"
      },
      "outputs": [],
      "source": [
        "import warnings\n",
        "\n",
        "\n",
        "import pyspark\n",
        "from pyspark.sql import *\n",
        "from pyspark.sql import functions as F\n",
        "from pyspark.sql import types\n",
        "from pyspark.sql.functions import col, isnan, when, count\n",
        "from pyspark.sql.functions import regexp_extract, regexp_replace\n",
        "from pyspark.sql.functions import substring_index\n",
        "from pyspark.ml import Pipeline\n",
        "\n",
        "#for EDA \n",
        "import matplotlib.pyplot as plt\n",
        "import seaborn as sns\n",
        "import pandas as pd\n",
        "import numpy as np \n",
        "\n",
        "\n",
        "# for ml Classification \n",
        "from pyspark.ml.evaluation import MulticlassClassificationEvaluator\n",
        "from pyspark.ml.regression import RandomForestRegressor, DecisionTreeRegressor, GBTRegressor, LinearRegression\n",
        "from pyspark.ml.evaluation import RegressionEvaluator\n",
        "from pyspark.ml.tuning import CrossValidator, ParamGridBuilder\n",
        "from pyspark.ml.feature import Imputer,StandardScaler,StringIndexer, VectorAssembler, VectorIndexer, OneHotEncoder\n",
        "from pyspark.mllib.evaluation import MulticlassMetrics\n",
        "from pyspark.sql.types import FloatType\n",
        "from pyspark.sql.functions import col, trim, lower\n",
        "\n",
        "\n",
        "warnings.filterwarnings('ignore')"
      ]
    },
    {
      "cell_type": "markdown",
      "metadata": {
        "id": "XbFzxDVL_Ctd"
      },
      "source": [
        "## Loading Dataset "
      ]
    },
    {
      "cell_type": "markdown",
      "metadata": {
        "id": "8wJNcQtgAB8S"
      },
      "source": [
        "First Connect to spark server >> to access to spark cluster, we using SparkSession"
      ]
    },
    {
      "cell_type": "code",
      "execution_count": null,
      "metadata": {
        "colab": {
          "background_save": true
        },
        "id": "Uj4YuXAjlH-A"
      },
      "outputs": [],
      "source": [
        "spark = pyspark.sql.SparkSession.builder.getOrCreate()"
      ]
    },
    {
      "cell_type": "code",
      "execution_count": null,
      "metadata": {
        "colab": {
          "background_save": true
        },
        "id": "UXUU6j8u1RAR"
      },
      "outputs": [],
      "source": [
        "spark = SparkSession.builder.config('spark.executor.instances', 8).getOrCreate()"
      ]
    },
    {
      "cell_type": "code",
      "execution_count": null,
      "metadata": {
        "colab": {
          "base_uri": "https://localhost:8080/"
        },
        "id": "diVmKvar6vXi",
        "outputId": "4f580381-d840-4519-ec7d-f4bef8fd3df4"
      },
      "outputs": [
        {
          "name": "stdout",
          "output_type": "stream",
          "text": [
            "Mounted at /content/drive\n"
          ]
        }
      ],
      "source": [
        "from google.colab import drive\n",
        "drive.mount('/content/drive')"
      ]
    },
    {
      "cell_type": "code",
      "execution_count": null,
      "metadata": {
        "id": "IZVvZHqg3IZV"
      },
      "outputs": [],
      "source": [
        "#read csv file with header \n",
        "df = spark.read.csv('/content/drive/MyDrive/SaudiWeather.csv', header='true', inferSchema='true', sep=',')"
      ]
    },
    {
      "cell_type": "code",
      "execution_count": null,
      "metadata": {
        "colab": {
          "base_uri": "https://localhost:8080/"
        },
        "id": "XO3_QdZyECqQ",
        "outputId": "bc3204ab-967a-4a16-d1d2-6c825acea21c"
      },
      "outputs": [
        {
          "name": "stdout",
          "output_type": "stream",
          "text": [
            "+----+--------------------+-----------+-------------------+----------+----------+---------+--------------------+---------+---------------+---------+-------------------+---------------+-------------------------+--------------------+-----+---+----+------+------+-----------+--------------+--------------------------+\n",
            "|YEAR|        station_name| station_id|   observation_date|  latitude| longitude|elevation|wind_direction_angle|wind_type|wind_speed_rate|sky_cavok|visibility_distance|air_temperature|air_temperature_dew_point|            GEOPOINT|month|day|hour|minute|season|Season_name|humidity_level|air_temperature_categories|\n",
            "+----+--------------------+-----------+-------------------+----------+----------+---------+--------------------+---------+---------------+---------+-------------------+---------------+-------------------------+--------------------+-----+---+----+------+------+-----------+--------------+--------------------------+\n",
            "|2022|             AL BAHA|41055099999|2022-12-10 00:00:00| 20.296139| 41.634277|  1672.13|                 350|   Normal|            4.6|      Yes|               9900|           17.0|                       14| 20.296139,41.634277|   12| 10|   0|     0|     3|       Fall|        31–36%|               comfortable|\n",
            "|2022|         AL-DAWADAMI|40435099999|2022-12-10 00:00:00|26.9833333|44.1166666|    923.0|                  80|   Normal|            9.3|       No|               7000|           16.1|                       11|26.9833333,44.116...|   12| 10|   0|     0|     3|       Fall|        26–30%|               comfortable|\n",
            "|2022|             AL AHSA|40420099999|2022-12-10 00:00:00| 25.285306| 49.485189|   179.22|                 340|   Normal|            2.6|      Yes|               9900|           17.0|                        7| 25.285306,49.485189|   12| 10|   0|     0|     3|       Fall| 25% and lower|               comfortable|\n",
            "|2022|              GASSIM|40405099999|2022-12-10 00:00:00|      26.3|43.7666666|    648.0|                 110|   Normal|            1.0|       No|               5000|           14.0|                       14|     26.3,43.7666666|   12| 10|   0|     0|     3|       Fall|        31–36%|                      cold|\n",
            "|2022|             AL JOUF|40361099999|2022-12-10 00:00:00| 29.785133| 40.100006|   689.15|                 130|   Normal|            5.1|      Yes|               9900|           13.0|                        6| 29.785133,40.100006|   12| 10|   0|     0|     3|       Fall| 25% and lower|                      cold|\n",
            "|2022|              GURIAT|40360099999|2022-12-10 00:00:00| 31.411942| 37.279469|   509.62|                 250|   Normal|            2.1|       No|              10000|           11.0|                        6| 31.411942,37.279469|   12| 10|   0|     0|     3|       Fall| 25% and lower|                      cold|\n",
            "|2022|     WADI AL DAWASIR|41061099999|2022-12-10 00:00:00| 20.504275| 45.199556|   628.49|                 120|   Normal|            6.2|       No|              10000|           20.0|                        9| 20.504275,45.199556|   12| 10|   0|     0|     3|       Fall| 25% and lower|               comfortable|\n",
            "|2022|                MINA|41031099999|2022-12-10 00:00:00|21.4166666|39.8666666|    394.0|                 360|   Normal|            2.6|       No|              10000|           24.8|                       16|21.4166666,39.866...|   12| 10|   0|     0|     3|       Fall|        31–36%|                      warm|\n",
            "|2022|PRINCE MOHAMMAD B...|40430099999|2022-12-10 00:00:00| 24.553422| 39.705061|   655.62|                  80|   Normal|            3.6|       No|               9000|           21.0|                       11| 24.553422,39.705061|   12| 10|   0|     0|     3|       Fall|        26–30%|               comfortable|\n",
            "|2022|              GASSIM|40405099999|2022-12-10 00:00:00|      26.3|43.7666666|    648.0|                 110|   Normal|            1.0|       No|               5000|           14.0|                       14|     26.3,43.7666666|   12| 10|   0|     0|     3|       Fall|        31–36%|                      cold|\n",
            "|2022|PRINCE ABDULMAJEE...|40401099999|2022-12-10 00:00:00|   26.2938|   38.0637|   623.01|                 360|   Normal|            2.1|       No|              10000|           20.3|                        5|     26.2938,38.0637|   12| 10|   0|     0|     3|       Fall| 25% and lower|               comfortable|\n",
            "|2022|            QAISUMAH|40373099999|2022-12-10 00:00:00| 28.335192| 46.125069|   357.83|                 350|   Normal|            2.1|      Yes|               9900|           14.0|                        6| 28.335192,46.125069|   12| 10|   0|     0|     3|       Fall| 25% and lower|                      cold|\n",
            "|2022|             AL JOUF|40361099999|2022-12-10 00:00:00| 29.785133| 40.100006|   689.15|                 130|   Normal|            5.1|       No|              10000|           13.0|                        6| 29.785133,40.100006|   12| 10|   0|     0|     3|       Fall| 25% and lower|                      cold|\n",
            "|2022|            SHARURAH|41136099999|2022-12-10 00:00:00| 17.466875| 47.121431|   720.24|                  80|   Normal|            5.7|      Yes|               9900|           21.0|                        7| 17.466875,47.121431|   12| 10|   0|     0|     3|       Fall| 25% and lower|               comfortable|\n",
            "|2022|     WADI AL DAWASIR|41061099999|2022-12-10 00:00:00| 20.504275| 45.199556|   628.49|                 120|   Normal|            6.2|      Yes|               9900|           20.0|                        9| 20.504275,45.199556|   12| 10|   0|     0|     3|       Fall| 25% and lower|               comfortable|\n",
            "|2022| KING ABDULAZIZ INTL|41024099999|2022-12-10 00:00:00| 21.679564| 39.156536|    14.63|                 350|   Normal|            1.5|       No|              10000|           24.8|                       17| 21.679564,39.156536|   12| 10|   0|     0|     3|       Fall|        37–43%|                      warm|\n",
            "|2022|               YENBO|40439099999|2022-12-10 00:00:00| 24.144244|  38.06335|     7.92|                 280|   Normal|            3.1|      Yes|               9900|           23.0|                       16|  24.144244,38.06335|   12| 10|   0|     0|     3|       Fall|        31–36%|               comfortable|\n",
            "|2022|             AL AHSA|40420099999|2022-12-10 00:00:00| 25.285306| 49.485189|   179.22|                 340|   Normal|            2.6|       No|              10000|           17.1|                        7| 25.285306,49.485189|   12| 10|   0|     0|     3|       Fall| 25% and lower|               comfortable|\n",
            "|2022|DAMMAM (KING FAHD...|40415099999|2022-12-10 00:00:00|26.4333333|      49.8|     12.0|                 300|   Normal|            5.7|       No|               9999|           19.0|                        9|     26.4333333,49.8|   12| 10|   0|     0|     3|       Fall| 25% and lower|               comfortable|\n",
            "|2022|PRINCE SALMAN BIN...|40414099999|2022-12-10 00:00:00| 24.449867| 44.121175|   922.32|                  80|   Normal|            9.3|       No|               7000|           16.0|                       11| 24.449867,44.121175|   12| 10|   0|     0|     3|       Fall|        26–30%|               comfortable|\n",
            "+----+--------------------+-----------+-------------------+----------+----------+---------+--------------------+---------+---------------+---------+-------------------+---------------+-------------------------+--------------------+-----+---+----+------+------+-----------+--------------+--------------------------+\n",
            "only showing top 20 rows\n",
            "\n"
          ]
        }
      ],
      "source": [
        "df.show()"
      ]
    },
    {
      "cell_type": "code",
      "execution_count": null,
      "metadata": {
        "colab": {
          "base_uri": "https://localhost:8080/"
        },
        "id": "ET-a3yw-X0oF",
        "outputId": "dd2f17d0-4d11-45b2-a859-d2a0c8d899a5"
      },
      "outputs": [
        {
          "name": "stdout",
          "output_type": "stream",
          "text": [
            "root\n",
            " |-- YEAR: integer (nullable = true)\n",
            " |-- station_name: string (nullable = true)\n",
            " |-- station_id: long (nullable = true)\n",
            " |-- observation_date: timestamp (nullable = true)\n",
            " |-- latitude: double (nullable = true)\n",
            " |-- longitude: double (nullable = true)\n",
            " |-- elevation: double (nullable = true)\n",
            " |-- wind_direction_angle: integer (nullable = true)\n",
            " |-- wind_type: string (nullable = true)\n",
            " |-- wind_speed_rate: double (nullable = true)\n",
            " |-- sky_cavok: string (nullable = true)\n",
            " |-- visibility_distance: integer (nullable = true)\n",
            " |-- air_temperature: double (nullable = true)\n",
            " |-- air_temperature_dew_point: integer (nullable = true)\n",
            " |-- GEOPOINT: string (nullable = true)\n",
            " |-- month: integer (nullable = true)\n",
            " |-- day: integer (nullable = true)\n",
            " |-- hour: integer (nullable = true)\n",
            " |-- minute: integer (nullable = true)\n",
            " |-- season: integer (nullable = true)\n",
            " |-- Season_name: string (nullable = true)\n",
            " |-- humidity_level: string (nullable = true)\n",
            " |-- air_temperature_categories: string (nullable = true)\n",
            "\n"
          ]
        }
      ],
      "source": [
        "df.printSchema()"
      ]
    },
    {
      "cell_type": "markdown",
      "metadata": {
        "id": "GP0G2Q-i_Cti"
      },
      "source": [
        "***\n",
        "# ML Regression Section \n",
        "\n",
        "***"
      ]
    },
    {
      "cell_type": "markdown",
      "metadata": {
        "id": "jKG4whcF_Cti"
      },
      "source": [
        "## Feature Engineering and Feature Selection"
      ]
    },
    {
      "cell_type": "markdown",
      "metadata": {
        "id": "ZxFqmuvUWe1C"
      },
      "source": [
        "Here we will encode all the categorical columns choosing as a features using StringIndexer and drop the original columns."
      ]
    },
    {
      "cell_type": "code",
      "execution_count": null,
      "metadata": {
        "id": "fNUZjYQqWqOQ"
      },
      "outputs": [],
      "source": [
        "## define variable contain all columns needed\n",
        "\n",
        "cat_cols=['station_name','wind_type','sky_cavok','Season_name','humidity_level','air_temperature_categories']"
      ]
    },
    {
      "cell_type": "code",
      "execution_count": null,
      "metadata": {
        "id": "T7mZ2KYWWd6l"
      },
      "outputs": [],
      "source": [
        "#This step will label encode all the categorical columns and store them in different columns with the same name + '_', \n",
        "\n",
        "for col in cat_cols:\n",
        "    indexer = StringIndexer(inputCol=col, outputCol=col+'_')\n",
        "    df = indexer.fit(df).transform(df) #here we fit and transform the data altogether\n",
        "    \n",
        "df = df.drop(*cat_cols) #we will drop all the categorical columns we defined earlier"
      ]
    },
    {
      "cell_type": "code",
      "execution_count": null,
      "metadata": {
        "id": "oAg6arsRlcfR"
      },
      "outputs": [],
      "source": [
        "## drop unedded column in ML \n",
        "\n",
        "drop_cols = ['GEOPOINT' , 'station_id','observation_date']\n",
        "\n",
        "df = df.drop(*drop_cols)\n"
      ]
    },
    {
      "cell_type": "markdown",
      "metadata": {
        "id": "K2hHOri_WHFm"
      },
      "source": [
        ">> First Combining Feature Columns"
      ]
    },
    {
      "cell_type": "code",
      "execution_count": null,
      "metadata": {
        "id": "xdypIAVAWMzX"
      },
      "outputs": [],
      "source": [
        "#define columns\n",
        "cols = df.columns\n",
        "cols.remove('air_temperature') #remove air_temperature -> we need this to be our label\n",
        "\n",
        "#vector assembler will take all the columns and convert them into one column called features\n",
        "assembler = VectorAssembler(inputCols=cols, outputCol='features')\n",
        "\n",
        "#the .transform will apply the changes here\n",
        "df = assembler.transform(df)"
      ]
    },
    {
      "cell_type": "code",
      "execution_count": null,
      "metadata": {
        "id": "eRTkuq8DuEw-"
      },
      "outputs": [],
      "source": [
        "#Initialize Standard Scaler\n",
        "stdScaler = StandardScaler(inputCol=\"features\", outputCol=\"features_scaled\")\n",
        "\n",
        "#Fit the Standard Scaler to the indexed Dataframe\n",
        "scaler = stdScaler.fit(df)\n",
        "\n",
        "#Transform the dataframe\n",
        "df_scaled =scaler.transform(df)"
      ]
    },
    {
      "cell_type": "code",
      "execution_count": null,
      "metadata": {
        "colab": {
          "base_uri": "https://localhost:8080/"
        },
        "id": "ssrbDNDBuflQ",
        "outputId": "85dc3321-286c-4ece-b28d-c074bd7fc699"
      },
      "outputs": [
        {
          "name": "stdout",
          "output_type": "stream",
          "text": [
            "+----+----------+----------+---------+--------------------+---------------+-------------------+---------------+-------------------------+-----+---+----+------+------+-------------+----------+----------+------------+---------------+---------------------------+--------------------+--------------------+\n",
            "|YEAR|  latitude| longitude|elevation|wind_direction_angle|wind_speed_rate|visibility_distance|air_temperature|air_temperature_dew_point|month|day|hour|minute|season|station_name_|wind_type_|sky_cavok_|Season_name_|humidity_level_|air_temperature_categories_|            features|     features_scaled|\n",
            "+----+----------+----------+---------+--------------------+---------------+-------------------+---------------+-------------------------+-----+---+----+------+------+-------------+----------+----------+------------+---------------+---------------------------+--------------------+--------------------+\n",
            "|2022| 20.296139| 41.634277|  1672.13|                 350|            4.6|               9900|           17.0|                       14|   12| 10|   0|     0|     3|         23.0|       0.0|       1.0|         3.0|            1.0|                        2.0|[2022.0,20.296139...|[1288.69145462652...|\n",
            "|2022|26.9833333|44.1166666|    923.0|                  80|            9.3|               7000|           16.1|                       11|   12| 10|   0|     0|     3|         29.0|       0.0|       0.0|         3.0|            2.0|                        2.0|[2022.0,26.983333...|[1288.69145462652...|\n",
            "|2022| 25.285306| 49.485189|   179.22|                 340|            2.6|               9900|           17.0|                        7|   12| 10|   0|     0|     3|         11.0|       0.0|       1.0|         3.0|            0.0|                        2.0|[2022.0,25.285306...|[1288.69145462652...|\n",
            "|2022|      26.3|43.7666666|    648.0|                 110|            1.0|               5000|           14.0|                       14|   12| 10|   0|     0|     3|          0.0|       0.0|       0.0|         3.0|            1.0|                        3.0|[2022.0,26.3,43.7...|[1288.69145462652...|\n",
            "|2022| 29.785133| 40.100006|   689.15|                 130|            5.1|               9900|           13.0|                        6|   12| 10|   0|     0|     3|         12.0|       0.0|       1.0|         3.0|            0.0|                        3.0|[2022.0,29.785133...|[1288.69145462652...|\n",
            "+----+----------+----------+---------+--------------------+---------------+-------------------+---------------+-------------------------+-----+---+----+------+------+-------------+----------+----------+------------+---------------+---------------------------+--------------------+--------------------+\n",
            "only showing top 5 rows\n",
            "\n"
          ]
        }
      ],
      "source": [
        "#show database after scaled\n",
        "df_scaled.show(5)"
      ]
    },
    {
      "cell_type": "markdown",
      "metadata": {
        "id": "Ab_SFd3Lse5F"
      },
      "source": [
        "## Split Data"
      ]
    },
    {
      "cell_type": "markdown",
      "metadata": {
        "id": "c30X-Nah2W-b"
      },
      "source": [
        ">> Just like always, before building a model we shall split our scaled dataset into training & test sets. Training Dataset = 80% Test Dataset = 20%"
      ]
    },
    {
      "cell_type": "code",
      "execution_count": null,
      "metadata": {
        "id": "jFf433rTl2oV"
      },
      "outputs": [],
      "source": [
        "# We have created a new dataframe only consisting of the features column and the label column \n",
        "df_data = df_scaled.select(F.col('features_scaled'), F.col('air_temperature').alias('label'))\n",
        "\n",
        "#simple data splitting\n",
        "df_train, df_test = df_data.randomSplit([0.8, 0.2])"
      ]
    },
    {
      "cell_type": "code",
      "execution_count": null,
      "metadata": {
        "colab": {
          "base_uri": "https://localhost:8080/"
        },
        "id": "Ee-OMwzUuwm3",
        "outputId": "64180fef-17c5-41cc-d531-55a988c9cb5a"
      },
      "outputs": [
        {
          "name": "stdout",
          "output_type": "stream",
          "text": [
            "+--------------------+-----+\n",
            "|     features_scaled|label|\n",
            "+--------------------+-----+\n",
            "|[1288.69145462652...| 17.0|\n",
            "|[1288.69145462652...| 16.1|\n",
            "|[1288.69145462652...| 17.0|\n",
            "|[1288.69145462652...| 14.0|\n",
            "|[1288.69145462652...| 13.0|\n",
            "|[1288.69145462652...| 11.0|\n",
            "|[1288.69145462652...| 20.0|\n",
            "|[1288.69145462652...| 24.8|\n",
            "|[1288.69145462652...| 21.0|\n",
            "|[1288.69145462652...| 14.0|\n",
            "|[1288.69145462652...| 20.3|\n",
            "|[1288.69145462652...| 14.0|\n",
            "|[1288.69145462652...| 13.0|\n",
            "|[1288.69145462652...| 21.0|\n",
            "|[1288.69145462652...| 20.0|\n",
            "|[1288.69145462652...| 24.8|\n",
            "|[1288.69145462652...| 23.0|\n",
            "|[1288.69145462652...| 17.1|\n",
            "|[1288.69145462652...| 19.0|\n",
            "|[1288.69145462652...| 16.0|\n",
            "+--------------------+-----+\n",
            "only showing top 20 rows\n",
            "\n"
          ]
        }
      ],
      "source": [
        "df_data.show()"
      ]
    },
    {
      "cell_type": "markdown",
      "metadata": {
        "id": "sqh-OndHCBEr"
      },
      "source": [
        ">> define evaluater for **RegressionEvaluator** "
      ]
    },
    {
      "cell_type": "code",
      "execution_count": null,
      "metadata": {
        "id": "VbhIV8LwCGqg"
      },
      "outputs": [],
      "source": [
        "#define evaluater\n",
        "\n",
        "evaluator_R = RegressionEvaluator(predictionCol='prediction', labelCol='label', metricName='r2')\n",
        "\n",
        "evaluator_RMSE = RegressionEvaluator(predictionCol='prediction', labelCol='label', metricName='rmse')\n",
        "\n",
        "evaluator_MAE = RegressionEvaluator(predictionCol='prediction', labelCol='label', metricName='mae')"
      ]
    },
    {
      "cell_type": "markdown",
      "metadata": {
        "id": "qTwkfOrWswkW"
      },
      "source": [
        "## Train and Evaluate Models\n",
        "\n"
      ]
    },
    {
      "cell_type": "markdown",
      "metadata": {
        "id": "DJUQYnNIOXi5"
      },
      "source": [
        "### 1st Regression Model: **Linear Regression**\n"
      ]
    },
    {
      "cell_type": "code",
      "execution_count": null,
      "metadata": {
        "colab": {
          "base_uri": "https://localhost:8080/"
        },
        "id": "ZeowSm3Tbv-3",
        "outputId": "ae31661a-ec7b-48f2-d65d-3f49936d9732"
      },
      "outputs": [
        {
          "name": "stdout",
          "output_type": "stream",
          "text": [
            "+--------------------------------------------------------------------------------------------------------------------------------------------------------------------------------------------------------------------------------------------+-----+------------------+\n",
            "|features_scaled                                                                                                                                                                                                                             |label|prediction        |\n",
            "+--------------------------------------------------------------------------------------------------------------------------------------------------------------------------------------------------------------------------------------------+-----+------------------+\n",
            "|(19,[0,1,2,3,4,5,6,7,8,9,12],[1287.4167845428162,5.970844001351544,11.320917795754413,1.1466549813034426,0.18535327339703406,2.6844414965790655,5.75685742699869,0.8282601033716479,2.67385906985167,2.4993318943376974,1.8175799183501722])|31.5 |34.13084699122967 |\n",
            "|(19,[0,1,2,3,4,5,6,7,8,9,12],[1287.4167845428162,5.970844001351544,11.320917795754413,1.1466549813034426,0.3707065467940681,1.125733530823479,5.75685742699869,1.183228719102354,2.67385906985167,3.1809678655207057,1.8175799183501722])   |30.0 |33.396003089562925|\n",
            "|(19,[0,1,2,3,4,5,6,7,8,9,12],[1287.4167845428162,5.970844001351544,11.320917795754413,1.1466549813034426,0.4633831834925851,0.4329744349321073,5.75685742699869,0.591614359551177,2.67385906985167,1.704089927957521,1.8175799183501722])   |29.0 |33.2920780209424  |\n",
            "|(19,[0,1,2,3,4,5,6,7,8,9,12],[1287.4167845428162,5.970844001351544,11.320917795754413,1.1466549813034426,2.872975737654028,2.900928714045119,5.75685742699869,0.7099372314614125,2.376763617645929,0.7952419663801764,1.8175799183501722])  |31.0 |33.986140514159835|\n",
            "|(19,[0,1,2,3,4,5,6,7,8,9,12],[1287.4167845428162,5.970844001351544,11.320917795754413,1.1466549813034426,3.151005647749579,1.3422207482895328,4.029800198899083,0.9465829752818833,2.67385906985167,0.5680299759858403,1.8175799183501722]) |31.0 |33.55373279782448 |\n",
            "|(19,[0,1,2,3,4,5,6,7,8,9,12],[1288.0541195846693,5.970844001351544,11.320917795754413,1.1466549813034426,0.4633831834925851,0.4329744349321073,5.75685742699869,1.183228719102354,2.67385906985167,1.704089927957521,1.8175799183501722])   |30.0 |33.11628416225098 |\n",
            "|(19,[0,1,2,3,4,5,6,7,8,9,12],[1288.0541195846693,5.970844001351544,11.320917795754413,1.1466549813034426,0.6487364568896192,1.5587079657555862,5.75685742699869,1.183228719102354,2.67385906985167,2.9537558751263697,1.8175799183501722])  |31.0 |33.5708274191329  |\n",
            "+--------------------------------------------------------------------------------------------------------------------------------------------------------------------------------------------------------------------------------------------+-----+------------------+\n",
            "only showing top 7 rows\n",
            "\n"
          ]
        }
      ],
      "source": [
        "\n",
        "# -- Linear Regression --\n",
        "\n",
        "lr = LinearRegression(maxIter=10, regParam=0.3, elasticNetParam=0.8, featuresCol='features_scaled', labelCol='label')\n",
        "\n",
        "# train the multiclass model.\n",
        "r_lr = lr.fit(df_train)\n",
        "\n",
        "#train the model\n",
        "model_predictions= r_lr.transform(df_test)\n",
        "\n",
        "model_predictions.show(7,False)"
      ]
    },
    {
      "cell_type": "code",
      "execution_count": null,
      "metadata": {
        "colab": {
          "base_uri": "https://localhost:8080/"
        },
        "id": "FueSnRJTBhaU",
        "outputId": "9acb0a73-d74f-4c4f-9a9a-697b085830cb"
      },
      "outputs": [
        {
          "name": "stdout",
          "output_type": "stream",
          "text": [
            "Linear Regression r2 = 65.61%\n",
            "Linear Regression RMSE = 517.83%\n",
            "Linear Regression MAE = 410.00%\n"
          ]
        }
      ],
      "source": [
        "#Evaluate the Model\n",
        "\n",
        "lr_r = evaluator_R.evaluate(model_predictions)\n",
        "lr_rms = evaluator_RMSE.evaluate(model_predictions)\n",
        "lr_mae = evaluator_MAE.evaluate(model_predictions)\n",
        "\n",
        "\n",
        "#print r2, RMSE, MAE\n",
        "print(\"Linear Regression r2 =\", '{:.2%}'.format(lr_r))\n",
        "\n",
        "print(\"Linear Regression RMSE =\", '{:.2%}'.format(lr_rms))\n",
        "\n",
        "print(\"Linear Regression MAE =\", '{:.2%}'.format(lr_mae))\n",
        "\n"
      ]
    },
    {
      "cell_type": "markdown",
      "metadata": {
        "id": "jFK296zBug7u"
      },
      "source": [
        "### 2nd Regression Model: **Random Forest Regressor**\n"
      ]
    },
    {
      "cell_type": "code",
      "execution_count": null,
      "metadata": {
        "colab": {
          "base_uri": "https://localhost:8080/"
        },
        "id": "ALW0DPDF_Ctj",
        "outputId": "8a32e171-b79e-463a-f622-64ae91eb1b30"
      },
      "outputs": [
        {
          "name": "stdout",
          "output_type": "stream",
          "text": [
            "+--------------------------------------------------------------------------------------------------------------------------------------------------------------------------------------------------------------------------------------------+-----+------------------+\n",
            "|features_scaled                                                                                                                                                                                                                             |label|prediction        |\n",
            "+--------------------------------------------------------------------------------------------------------------------------------------------------------------------------------------------------------------------------------------------+-----+------------------+\n",
            "|(19,[0,1,2,3,4,5,6,7,8,9,12],[1287.4167845428162,5.970844001351544,11.320917795754413,1.1466549813034426,0.18535327339703406,2.6844414965790655,5.75685742699869,0.8282601033716479,2.67385906985167,2.4993318943376974,1.8175799183501722])|31.5 |29.050045459577255|\n",
            "|(19,[0,1,2,3,4,5,6,7,8,9,12],[1287.4167845428162,5.970844001351544,11.320917795754413,1.1466549813034426,0.3707065467940681,1.125733530823479,5.75685742699869,1.183228719102354,2.67385906985167,3.1809678655207057,1.8175799183501722])   |30.0 |29.050045459577255|\n",
            "|(19,[0,1,2,3,4,5,6,7,8,9,12],[1287.4167845428162,5.970844001351544,11.320917795754413,1.1466549813034426,0.4633831834925851,0.4329744349321073,5.75685742699869,0.591614359551177,2.67385906985167,1.704089927957521,1.8175799183501722])   |29.0 |29.050045459577255|\n",
            "|(19,[0,1,2,3,4,5,6,7,8,9,12],[1287.4167845428162,5.970844001351544,11.320917795754413,1.1466549813034426,2.872975737654028,2.900928714045119,5.75685742699869,0.7099372314614125,2.376763617645929,0.7952419663801764,1.8175799183501722])  |31.0 |29.050045459577255|\n",
            "|(19,[0,1,2,3,4,5,6,7,8,9,12],[1287.4167845428162,5.970844001351544,11.320917795754413,1.1466549813034426,3.151005647749579,1.3422207482895328,4.029800198899083,0.9465829752818833,2.67385906985167,0.5680299759858403,1.8175799183501722]) |31.0 |29.050045459577255|\n",
            "|(19,[0,1,2,3,4,5,6,7,8,9,12],[1288.0541195846693,5.970844001351544,11.320917795754413,1.1466549813034426,0.4633831834925851,0.4329744349321073,5.75685742699869,1.183228719102354,2.67385906985167,1.704089927957521,1.8175799183501722])   |30.0 |29.050045459577255|\n",
            "|(19,[0,1,2,3,4,5,6,7,8,9,12],[1288.0541195846693,5.970844001351544,11.320917795754413,1.1466549813034426,0.6487364568896192,1.5587079657555862,5.75685742699869,1.183228719102354,2.67385906985167,2.9537558751263697,1.8175799183501722])  |31.0 |29.050045459577255|\n",
            "+--------------------------------------------------------------------------------------------------------------------------------------------------------------------------------------------------------------------------------------------+-----+------------------+\n",
            "only showing top 7 rows\n",
            "\n"
          ]
        }
      ],
      "source": [
        "# -- Random Forest Regressor --\n",
        "\n",
        "rf = RandomForestRegressor(featuresCol='features_scaled', labelCol='label')\n",
        "\n",
        "# train the multiclass model.\n",
        "r_rf = rf.fit(df_train)\n",
        "\n",
        "\n",
        "#train the model\n",
        "rf_pred= r_rf.transform(df_test)\n",
        "\n",
        "rf_pred.show(7,False)\n"
      ]
    },
    {
      "cell_type": "code",
      "execution_count": null,
      "metadata": {
        "colab": {
          "base_uri": "https://localhost:8080/"
        },
        "id": "ZVA4zALIOPhc",
        "outputId": "39246abc-e1fe-441d-9980-fd5784174e62"
      },
      "outputs": [
        {
          "name": "stdout",
          "output_type": "stream",
          "text": [
            "Random Forest Regressor r2 = 91.63%\n",
            "Random Forest Regressor RMSE = 255.51%\n",
            "Random Forest Regressor MAE = 201.99%\n"
          ]
        }
      ],
      "source": [
        "#Evaluate the Model\n",
        "\n",
        "rf_r = evaluator_R.evaluate(rf_pred)\n",
        "rf_rms = evaluator_RMSE.evaluate(rf_pred)\n",
        "rf_mae = evaluator_MAE.evaluate(rf_pred)\n",
        "\n",
        "\n",
        "#print r2, RMSE, MAE\n",
        "print(\"Random Forest Regressor r2 =\", '{:.2%}'.format(rf_r))\n",
        "\n",
        "print(\"Random Forest Regressor RMSE =\", '{:.2%}'.format(rf_rms))\n",
        "\n",
        "print(\"Random Forest Regressor MAE =\", '{:.2%}'.format(rf_mae))"
      ]
    },
    {
      "cell_type": "markdown",
      "metadata": {
        "id": "xvFI9DEtuXvw"
      },
      "source": [
        "### 3rd Regression Model: **Gradient Boosted Tree Regressorr**"
      ]
    },
    {
      "cell_type": "code",
      "execution_count": null,
      "metadata": {
        "colab": {
          "base_uri": "https://localhost:8080/"
        },
        "id": "GAoyDH5-u1PZ",
        "outputId": "2da02b8e-45c2-44a7-8f1d-6806e714032c"
      },
      "outputs": [
        {
          "name": "stdout",
          "output_type": "stream",
          "text": [
            "+--------------------------------------------------------------------------------------------------------------------------------------------------------------------------------------------------------------------------------------------+-----+------------------+\n",
            "|features_scaled                                                                                                                                                                                                                             |label|prediction        |\n",
            "+--------------------------------------------------------------------------------------------------------------------------------------------------------------------------------------------------------------------------------------------+-----+------------------+\n",
            "|(19,[0,1,2,3,4,5,6,7,8,9,12],[1287.4167845428162,5.970844001351544,11.320917795754413,1.1466549813034426,0.18535327339703406,2.6844414965790655,5.75685742699869,0.8282601033716479,2.67385906985167,2.4993318943376974,1.8175799183501722])|31.5 |29.156502367046652|\n",
            "|(19,[0,1,2,3,4,5,6,7,8,9,12],[1287.4167845428162,5.970844001351544,11.320917795754413,1.1466549813034426,0.3707065467940681,1.125733530823479,5.75685742699869,1.183228719102354,2.67385906985167,3.1809678655207057,1.8175799183501722])   |30.0 |29.156502367046652|\n",
            "|(19,[0,1,2,3,4,5,6,7,8,9,12],[1287.4167845428162,5.970844001351544,11.320917795754413,1.1466549813034426,0.4633831834925851,0.4329744349321073,5.75685742699869,0.591614359551177,2.67385906985167,1.704089927957521,1.8175799183501722])   |29.0 |29.189008370830567|\n",
            "|(19,[0,1,2,3,4,5,6,7,8,9,12],[1287.4167845428162,5.970844001351544,11.320917795754413,1.1466549813034426,2.872975737654028,2.900928714045119,5.75685742699869,0.7099372314614125,2.376763617645929,0.7952419663801764,1.8175799183501722])  |31.0 |29.471998506826242|\n",
            "|(19,[0,1,2,3,4,5,6,7,8,9,12],[1287.4167845428162,5.970844001351544,11.320917795754413,1.1466549813034426,3.151005647749579,1.3422207482895328,4.029800198899083,0.9465829752818833,2.67385906985167,0.5680299759858403,1.8175799183501722]) |31.0 |29.189008370830567|\n",
            "|(19,[0,1,2,3,4,5,6,7,8,9,12],[1288.0541195846693,5.970844001351544,11.320917795754413,1.1466549813034426,0.4633831834925851,0.4329744349321073,5.75685742699869,1.183228719102354,2.67385906985167,1.704089927957521,1.8175799183501722])   |30.0 |29.189008370830567|\n",
            "|(19,[0,1,2,3,4,5,6,7,8,9,12],[1288.0541195846693,5.970844001351544,11.320917795754413,1.1466549813034426,0.6487364568896192,1.5587079657555862,5.75685742699869,1.183228719102354,2.67385906985167,2.9537558751263697,1.8175799183501722])  |31.0 |29.156502367046652|\n",
            "+--------------------------------------------------------------------------------------------------------------------------------------------------------------------------------------------------------------------------------------------+-----+------------------+\n",
            "only showing top 7 rows\n",
            "\n"
          ]
        }
      ],
      "source": [
        "# --Gradient Boosted Tree Regressor--\n",
        "\n",
        "\n",
        "gbt = GBTRegressor(featuresCol=\"features_scaled\", labelCol='label', maxIter=10)\n",
        "\n",
        "# train the multiclass model.\n",
        "r_gbt = gbt.fit(df_train)\n",
        "\n",
        "#train the model\n",
        "gbt_pred= r_gbt.transform(df_test)\n",
        "\n",
        "gbt_pred.show(7,False)\n"
      ]
    },
    {
      "cell_type": "code",
      "execution_count": null,
      "metadata": {
        "colab": {
          "base_uri": "https://localhost:8080/"
        },
        "id": "JxFBtIKsOQKk",
        "outputId": "2d2c9b2f-8fb7-423b-ad76-826e01f3ac31"
      },
      "outputs": [
        {
          "name": "stdout",
          "output_type": "stream",
          "text": [
            "Gradient Boosted Tree Regressorr r2 = 93.60%\n",
            "Gradient Boosted Tree Regressorr RMSE = 223.42%\n",
            "Gradient Boosted Tree Regressorr MAE = 183.48%\n"
          ]
        }
      ],
      "source": [
        "#Evaluate the Model\n",
        "\n",
        "gb_r = evaluator_R.evaluate(gbt_pred)\n",
        "gb_rms = evaluator_RMSE.evaluate(gbt_pred)\n",
        "gb_mae = evaluator_MAE.evaluate(gbt_pred)\n",
        "\n",
        "\n",
        "#print r2, RMSE, MAE\n",
        "print(\"Gradient Boosted Tree Regressorr r2 =\", '{:.2%}'.format(gb_r))\n",
        "\n",
        "print(\"Gradient Boosted Tree Regressorr RMSE =\", '{:.2%}'.format(gb_rms))\n",
        "\n",
        "print(\"Gradient Boosted Tree Regressorr MAE =\", '{:.2%}'.format(gb_mae))"
      ]
    },
    {
      "cell_type": "markdown",
      "metadata": {
        "id": "Ke8DFgiHu_WK"
      },
      "source": [
        "### 4th Regression Model: **Decision Tree Regressor**  "
      ]
    },
    {
      "cell_type": "code",
      "execution_count": null,
      "metadata": {
        "colab": {
          "base_uri": "https://localhost:8080/"
        },
        "id": "cicu5WyGvWGy",
        "outputId": "614f9af8-7c7a-4572-ef47-63580c1dd8c8"
      },
      "outputs": [
        {
          "name": "stdout",
          "output_type": "stream",
          "text": [
            "+--------------------------------------------------------------------------------------------------------------------------------------------------------------------------------------------------------------------------------------------+-----+------------------+\n",
            "|features_scaled                                                                                                                                                                                                                             |label|prediction        |\n",
            "+--------------------------------------------------------------------------------------------------------------------------------------------------------------------------------------------------------------------------------------------+-----+------------------+\n",
            "|(19,[0,1,2,3,4,5,6,7,8,9,12],[1287.4167845428162,5.970844001351544,11.320917795754413,1.1466549813034426,0.18535327339703406,2.6844414965790655,5.75685742699869,0.8282601033716479,2.67385906985167,2.4993318943376974,1.8175799183501722])|31.5 |28.654527309838777|\n",
            "|(19,[0,1,2,3,4,5,6,7,8,9,12],[1287.4167845428162,5.970844001351544,11.320917795754413,1.1466549813034426,0.3707065467940681,1.125733530823479,5.75685742699869,1.183228719102354,2.67385906985167,3.1809678655207057,1.8175799183501722])   |30.0 |28.654527309838777|\n",
            "|(19,[0,1,2,3,4,5,6,7,8,9,12],[1287.4167845428162,5.970844001351544,11.320917795754413,1.1466549813034426,0.4633831834925851,0.4329744349321073,5.75685742699869,0.591614359551177,2.67385906985167,1.704089927957521,1.8175799183501722])   |29.0 |28.654527309838777|\n",
            "|(19,[0,1,2,3,4,5,6,7,8,9,12],[1287.4167845428162,5.970844001351544,11.320917795754413,1.1466549813034426,2.872975737654028,2.900928714045119,5.75685742699869,0.7099372314614125,2.376763617645929,0.7952419663801764,1.8175799183501722])  |31.0 |28.654527309838777|\n",
            "|(19,[0,1,2,3,4,5,6,7,8,9,12],[1287.4167845428162,5.970844001351544,11.320917795754413,1.1466549813034426,3.151005647749579,1.3422207482895328,4.029800198899083,0.9465829752818833,2.67385906985167,0.5680299759858403,1.8175799183501722]) |31.0 |28.654527309838777|\n",
            "|(19,[0,1,2,3,4,5,6,7,8,9,12],[1288.0541195846693,5.970844001351544,11.320917795754413,1.1466549813034426,0.4633831834925851,0.4329744349321073,5.75685742699869,1.183228719102354,2.67385906985167,1.704089927957521,1.8175799183501722])   |30.0 |28.654527309838777|\n",
            "|(19,[0,1,2,3,4,5,6,7,8,9,12],[1288.0541195846693,5.970844001351544,11.320917795754413,1.1466549813034426,0.6487364568896192,1.5587079657555862,5.75685742699869,1.183228719102354,2.67385906985167,2.9537558751263697,1.8175799183501722])  |31.0 |28.654527309838777|\n",
            "+--------------------------------------------------------------------------------------------------------------------------------------------------------------------------------------------------------------------------------------------+-----+------------------+\n",
            "only showing top 7 rows\n",
            "\n"
          ]
        }
      ],
      "source": [
        "#--Decision Tree Regressor--\n",
        "\n",
        "dt = DecisionTreeRegressor(featuresCol=\"features_scaled\", labelCol='label')\n",
        "\n",
        "# train the multiclass model.\n",
        "r_dt = dt.fit(df_train)\n",
        "\n",
        "\n",
        "#train the model\n",
        "dt_pred= r_dt.transform(df_test)\n",
        "dt_pred.show(7,False)\n"
      ]
    },
    {
      "cell_type": "code",
      "execution_count": null,
      "metadata": {
        "colab": {
          "base_uri": "https://localhost:8080/"
        },
        "id": "nn0OzB2G_Ctl",
        "outputId": "4d250ff3-3a62-4168-b19d-6b6edc3706fe"
      },
      "outputs": [
        {
          "name": "stdout",
          "output_type": "stream",
          "text": [
            "Decision Tree Regressor r2 = 91.53%\n",
            "Decision Tree Regressor RMSE = 256.93%\n",
            "Decision Tree Regressor MAE = 209.52%\n"
          ]
        }
      ],
      "source": [
        "#Evaluate the Model\n",
        "\n",
        "dt_r = evaluator_R.evaluate(dt_pred)\n",
        "dt_rms = evaluator_RMSE.evaluate(dt_pred)\n",
        "dt_mae = evaluator_MAE.evaluate(dt_pred)\n",
        "\n",
        "\n",
        "#print r2, RMSE, MAE\n",
        "print(\"Decision Tree Regressor r2 =\", '{:.2%}'.format(dt_r))\n",
        "\n",
        "print(\"Decision Tree Regressor RMSE =\", '{:.2%}'.format(dt_rms))\n",
        "\n",
        "print(\"Decision Tree Regressor MAE =\", '{:.2%}'.format(dt_mae))"
      ]
    },
    {
      "cell_type": "markdown",
      "metadata": {
        "id": "5tsonHy8nkdT"
      },
      "source": [
        "## Show ML Evaluation as Dataframe\n"
      ]
    },
    {
      "cell_type": "code",
      "execution_count": null,
      "metadata": {
        "id": "CAUuhT5QnkdT"
      },
      "outputs": [],
      "source": [
        "models = [model_predictions, rf_pred, gbt_pred, dt_pred] #list of models we have\n",
        "\n",
        "evaluator_R = RegressionEvaluator(predictionCol='prediction', labelCol='label', metricName='r2')\n",
        "\n",
        "evaluator_RMSE = RegressionEvaluator(predictionCol='prediction', labelCol='label', metricName='rmse')\n",
        "\n",
        "evaluator_MAE = RegressionEvaluator(predictionCol='prediction', labelCol='label', metricName='mae')\n",
        "\n",
        "# Empty lists that will store the scores for each metric for each model.\n",
        "R2 = []\n",
        "RMSE = []\n",
        "MAE = []\n",
        "\n",
        "# Simple loop to populate the empty lists with scores of models for each metric.\n",
        "for model in models:\n",
        "    R2.append(evaluator_R.evaluate(model))\n",
        "    RMSE.append(evaluator_RMSE.evaluate(model))\n",
        "    MAE.append(evaluator_MAE.evaluate(model))"
      ]
    },
    {
      "cell_type": "code",
      "execution_count": null,
      "metadata": {
        "id": "JfD1Q8mcO93K"
      },
      "outputs": [],
      "source": [
        "# convert all lists created above into a dataframe .\n",
        "df_ev = pd.DataFrame(list(zip(R2, RMSE, MAE)), \n",
        "                     columns = ['R-squared', 'Root Mean Squared Error', 'Mean Absolute Error'],\n",
        "                     index = ['Linear Regression','Random Forest Regressor', 'Gradient Boosted Trees Regressor', 'Decision Tree Regressor'])"
      ]
    },
    {
      "cell_type": "code",
      "execution_count": null,
      "metadata": {
        "colab": {
          "base_uri": "https://localhost:8080/",
          "height": 175
        },
        "id": "S_oNpJ8aPCIP",
        "outputId": "609269ab-c972-4835-c462-703c68a99db5"
      },
      "outputs": [
        {
          "data": {
            "text/html": [
              "\n",
              "  <div id=\"df-c82d1b6f-43f4-4ed6-98be-aa5478f669f7\">\n",
              "    <div class=\"colab-df-container\">\n",
              "      <div>\n",
              "<style scoped>\n",
              "    .dataframe tbody tr th:only-of-type {\n",
              "        vertical-align: middle;\n",
              "    }\n",
              "\n",
              "    .dataframe tbody tr th {\n",
              "        vertical-align: top;\n",
              "    }\n",
              "\n",
              "    .dataframe thead th {\n",
              "        text-align: right;\n",
              "    }\n",
              "</style>\n",
              "<table border=\"1\" class=\"dataframe\">\n",
              "  <thead>\n",
              "    <tr style=\"text-align: right;\">\n",
              "      <th></th>\n",
              "      <th>R-squared</th>\n",
              "      <th>Root Mean Squared Error</th>\n",
              "      <th>Mean Absolute Error</th>\n",
              "    </tr>\n",
              "  </thead>\n",
              "  <tbody>\n",
              "    <tr>\n",
              "      <th>Linear Regression</th>\n",
              "      <td>0.656077</td>\n",
              "      <td>5.178277</td>\n",
              "      <td>4.099968</td>\n",
              "    </tr>\n",
              "    <tr>\n",
              "      <th>Random Forest Regressor</th>\n",
              "      <td>0.916265</td>\n",
              "      <td>2.555108</td>\n",
              "      <td>2.019896</td>\n",
              "    </tr>\n",
              "    <tr>\n",
              "      <th>Gradient Boosted Trees Regressor</th>\n",
              "      <td>0.935978</td>\n",
              "      <td>2.234195</td>\n",
              "      <td>1.834844</td>\n",
              "    </tr>\n",
              "    <tr>\n",
              "      <th>Decision Tree Regressor</th>\n",
              "      <td>0.915333</td>\n",
              "      <td>2.569284</td>\n",
              "      <td>2.095159</td>\n",
              "    </tr>\n",
              "  </tbody>\n",
              "</table>\n",
              "</div>\n",
              "      <button class=\"colab-df-convert\" onclick=\"convertToInteractive('df-c82d1b6f-43f4-4ed6-98be-aa5478f669f7')\"\n",
              "              title=\"Convert this dataframe to an interactive table.\"\n",
              "              style=\"display:none;\">\n",
              "        \n",
              "  <svg xmlns=\"http://www.w3.org/2000/svg\" height=\"24px\"viewBox=\"0 0 24 24\"\n",
              "       width=\"24px\">\n",
              "    <path d=\"M0 0h24v24H0V0z\" fill=\"none\"/>\n",
              "    <path d=\"M18.56 5.44l.94 2.06.94-2.06 2.06-.94-2.06-.94-.94-2.06-.94 2.06-2.06.94zm-11 1L8.5 8.5l.94-2.06 2.06-.94-2.06-.94L8.5 2.5l-.94 2.06-2.06.94zm10 10l.94 2.06.94-2.06 2.06-.94-2.06-.94-.94-2.06-.94 2.06-2.06.94z\"/><path d=\"M17.41 7.96l-1.37-1.37c-.4-.4-.92-.59-1.43-.59-.52 0-1.04.2-1.43.59L10.3 9.45l-7.72 7.72c-.78.78-.78 2.05 0 2.83L4 21.41c.39.39.9.59 1.41.59.51 0 1.02-.2 1.41-.59l7.78-7.78 2.81-2.81c.8-.78.8-2.07 0-2.86zM5.41 20L4 18.59l7.72-7.72 1.47 1.35L5.41 20z\"/>\n",
              "  </svg>\n",
              "      </button>\n",
              "      \n",
              "  <style>\n",
              "    .colab-df-container {\n",
              "      display:flex;\n",
              "      flex-wrap:wrap;\n",
              "      gap: 12px;\n",
              "    }\n",
              "\n",
              "    .colab-df-convert {\n",
              "      background-color: #E8F0FE;\n",
              "      border: none;\n",
              "      border-radius: 50%;\n",
              "      cursor: pointer;\n",
              "      display: none;\n",
              "      fill: #1967D2;\n",
              "      height: 32px;\n",
              "      padding: 0 0 0 0;\n",
              "      width: 32px;\n",
              "    }\n",
              "\n",
              "    .colab-df-convert:hover {\n",
              "      background-color: #E2EBFA;\n",
              "      box-shadow: 0px 1px 2px rgba(60, 64, 67, 0.3), 0px 1px 3px 1px rgba(60, 64, 67, 0.15);\n",
              "      fill: #174EA6;\n",
              "    }\n",
              "\n",
              "    [theme=dark] .colab-df-convert {\n",
              "      background-color: #3B4455;\n",
              "      fill: #D2E3FC;\n",
              "    }\n",
              "\n",
              "    [theme=dark] .colab-df-convert:hover {\n",
              "      background-color: #434B5C;\n",
              "      box-shadow: 0px 1px 3px 1px rgba(0, 0, 0, 0.15);\n",
              "      filter: drop-shadow(0px 1px 2px rgba(0, 0, 0, 0.3));\n",
              "      fill: #FFFFFF;\n",
              "    }\n",
              "  </style>\n",
              "\n",
              "      <script>\n",
              "        const buttonEl =\n",
              "          document.querySelector('#df-c82d1b6f-43f4-4ed6-98be-aa5478f669f7 button.colab-df-convert');\n",
              "        buttonEl.style.display =\n",
              "          google.colab.kernel.accessAllowed ? 'block' : 'none';\n",
              "\n",
              "        async function convertToInteractive(key) {\n",
              "          const element = document.querySelector('#df-c82d1b6f-43f4-4ed6-98be-aa5478f669f7');\n",
              "          const dataTable =\n",
              "            await google.colab.kernel.invokeFunction('convertToInteractive',\n",
              "                                                     [key], {});\n",
              "          if (!dataTable) return;\n",
              "\n",
              "          const docLinkHtml = 'Like what you see? Visit the ' +\n",
              "            '<a target=\"_blank\" href=https://colab.research.google.com/notebooks/data_table.ipynb>data table notebook</a>'\n",
              "            + ' to learn more about interactive tables.';\n",
              "          element.innerHTML = '';\n",
              "          dataTable['output_type'] = 'display_data';\n",
              "          await google.colab.output.renderOutput(dataTable, element);\n",
              "          const docLink = document.createElement('div');\n",
              "          docLink.innerHTML = docLinkHtml;\n",
              "          element.appendChild(docLink);\n",
              "        }\n",
              "      </script>\n",
              "    </div>\n",
              "  </div>\n",
              "  "
            ],
            "text/plain": [
              "                                  R-squared  Root Mean Squared Error  \\\n",
              "Linear Regression                  0.656077                 5.178277   \n",
              "Random Forest Regressor            0.916265                 2.555108   \n",
              "Gradient Boosted Trees Regressor   0.935978                 2.234195   \n",
              "Decision Tree Regressor            0.915333                 2.569284   \n",
              "\n",
              "                                  Mean Absolute Error  \n",
              "Linear Regression                            4.099968  \n",
              "Random Forest Regressor                      2.019896  \n",
              "Gradient Boosted Trees Regressor             1.834844  \n",
              "Decision Tree Regressor                      2.095159  "
            ]
          },
          "execution_count": 60,
          "metadata": {},
          "output_type": "execute_result"
        }
      ],
      "source": [
        "#print the final form of result tabel\n",
        "\n",
        "df_ev"
      ]
    },
    {
      "cell_type": "markdown",
      "metadata": {
        "id": "fEUrdHRYpLCA"
      },
      "source": [
        "## Model Optimization - Hyperparameter Tuning "
      ]
    },
    {
      "cell_type": "markdown",
      "metadata": {
        "id": "2RtLr9u5fxeC"
      },
      "source": [
        "\n",
        "\n",
        "### Grid Search-- **1: Linear Regression** "
      ]
    },
    {
      "cell_type": "code",
      "execution_count": null,
      "metadata": {
        "id": "GwvWjWyai4kg"
      },
      "outputs": [],
      "source": [
        "# this grid will have 3 x 2 = 6 parameter settings for CrossValidator to choose from.\n",
        "paramGrid = ParamGridBuilder().addGrid(lr.regParam, [0.1, 0.01]).build()\n",
        "\n",
        "cv_lr = CrossValidator(estimator=lr,\n",
        "                          estimatorParamMaps=paramGrid,\n",
        "                          evaluator=evaluator_R,\n",
        "                          numFolds=5)  \n",
        "\n",
        "# Run cross-validation, and choose the best set of parameters.\n",
        "cv_lrModel = cv_lr.fit(df_train)"
      ]
    },
    {
      "cell_type": "code",
      "execution_count": null,
      "metadata": {
        "colab": {
          "base_uri": "https://localhost:8080/"
        },
        "id": "4jFxsNVYurfT",
        "outputId": "900c8741-2800-44d8-9658-854e30afbbef"
      },
      "outputs": [
        {
          "name": "stdout",
          "output_type": "stream",
          "text": [
            "Accuracy of Linear Regression on the testing set:  0.6701259930162194\n"
          ]
        }
      ],
      "source": [
        "# accuracy of Linear Regression on the testing set\n",
        "\n",
        "print(\"Accuracy of Linear Regression on the testing set: \",evaluator_R.evaluate(cv_lrModel.bestModel.transform(df_test)))"
      ]
    },
    {
      "cell_type": "markdown",
      "metadata": {
        "id": "qKkZRCPvf96W"
      },
      "source": [
        "\n",
        "### Grid Search-- **2: Random Forest Regressor** "
      ]
    },
    {
      "cell_type": "code",
      "execution_count": null,
      "metadata": {
        "id": "XUGrd7M_kR5F"
      },
      "outputs": [],
      "source": [
        "# Create ParamGrid for Cross Validation\n",
        "rfparamGrid = (ParamGridBuilder().addGrid(rf.maxDepth, [2, 5, 10]).addGrid(rf.numTrees, [5, 20, 50]).build())\n",
        "\n",
        "#CrossValidator \n",
        "cv_rf = CrossValidator(estimator = rf,\n",
        "                      estimatorParamMaps = rfparamGrid,\n",
        "                      evaluator = evaluator_R,\n",
        "                      numFolds = 5)\n",
        "\n",
        "#fit training set\n",
        "cv_rfModel = cv_rf.fit(df_train)\n"
      ]
    },
    {
      "cell_type": "code",
      "execution_count": null,
      "metadata": {
        "colab": {
          "base_uri": "https://localhost:8080/"
        },
        "id": "oHPsnQKSulQl",
        "outputId": "c054683a-f6e8-4dc4-f2fd-cf7e3bbd95ba"
      },
      "outputs": [
        {
          "name": "stdout",
          "output_type": "stream",
          "text": [
            "Accuracy of Random Forest Regressor on the testing set:  0.9473550872966533\n"
          ]
        }
      ],
      "source": [
        "# accuracy of Random Forest Regressor on the testing set\n",
        "\n",
        "print(\"Accuracy of Random Forest Regressor on the testing set: \", evaluator_R.evaluate(cv_rfModel.bestModel.transform(df_test)))"
      ]
    },
    {
      "cell_type": "code",
      "execution_count": null,
      "metadata": {
        "id": "GeaWFcScKwr2"
      },
      "outputs": [],
      "source": [
        "# Create ParamGrid for Cross Validation\n",
        "\n",
        "grid_gbt = ParamGridBuilder().addGrid(gbt.maxIter, [25, 30, 35, 40]).build()\n",
        "\n",
        "#CrossValidator \n",
        "cv_gbt = CrossValidator(estimator=gbt,\n",
        "                        estimatorParamMaps=grid_gbt,\n",
        "                        evaluator=evaluator_R,\n",
        "                        parallelism=2,\n",
        "                        numFolds=5)\n",
        "\n",
        "#fit training set\n",
        "cvModel2 = cv_gbt.fit(df_train)\n"
      ]
    },
    {
      "cell_type": "markdown",
      "metadata": {
        "id": "MiOcO7TgKwgc"
      },
      "source": [
        "### Model Optimization - Hyperparameter Tuning - **Result**"
      ]
    },
    {
      "cell_type": "markdown",
      "metadata": {
        "id": "NH2SwHL7kfq8"
      },
      "source": [
        "###  "
      ]
    },
    {
      "cell_type": "code",
      "execution_count": null,
      "metadata": {
        "colab": {
          "base_uri": "https://localhost:8080/"
        },
        "id": "ufuH60UKfyv4",
        "outputId": "f6555c03-56f4-4498-9ac3-d40945345119"
      },
      "outputs": [
        {
          "name": "stdout",
          "output_type": "stream",
          "text": [
            "\u001b[1;30mAccuracy of Models -- Before optimazation -- :\n",
            "_____________________________________\u001b[0m\n",
            "\u001b[1;30mLinear Regression :\u001b[0m 65.61%\n",
            "\u001b[1;30mRandom Forest Regressor : \u001b[0m 91.63%\n",
            "\u001b[1;30mGradient Boosted Tree Regressor : \u001b[0m 93.60%\n",
            "\u001b[1;30mDecision Tree Regressor : \u001b[0m 91.53%\n"
          ]
        }
      ],
      "source": [
        "# accuracy of Models before optimazation\n",
        "\n",
        "print(black('Accuracy of Models -- Before optimazation -- :\\n_____________________________________', ['bold']))\n",
        "\n",
        "print(black(\"Linear Regression :\",['bold']) ,'{:.2%}'.format(evaluator_R.evaluate(model_predictions)))\n",
        "\n",
        "print(black(\"Random Forest Regressor : \",['bold']), '{:.2%}'.format(evaluator_R.evaluate(rf_pred)))\n",
        "\n",
        "print(black(\"Gradient Boosted Tree Regressor : \",['bold']),'{:.2%}'.format(evaluator_R.evaluate(gbt_pred)))\n",
        "\n",
        "print(black(\"Decision Tree Regressor : \",['bold']),'{:.2%}'.format(evaluator_R.evaluate(dt_pred)))\n",
        "\n",
        "\n",
        "\n",
        "\n",
        "#print(\"Tree Regressor: \",evaluator_R.evaluate(cv_dtModel.bestModel.transform(df_test)))"
      ]
    },
    {
      "cell_type": "code",
      "execution_count": null,
      "metadata": {
        "colab": {
          "base_uri": "https://localhost:8080/"
        },
        "id": "kAkUEsu3jxtt",
        "outputId": "8a8dfadb-67b5-4606-d43a-e1417a6cce6e"
      },
      "outputs": [
        {
          "name": "stdout",
          "output_type": "stream",
          "text": [
            "\u001b[1;30mAccuracy of Models -- After optimazation --:\n",
            "_____________________________________\u001b[0m\n",
            "\u001b[1;30mLinear Regression :\u001b[0m 67.01%\n",
            "\u001b[1;30mRandom Forest Regressor : \u001b[0m 94.74%\n",
            "\u001b[1;30mGradient Boosted Tree Regressor : \u001b[0m 95.10%\n",
            "\u001b[1;30mDecision Tree Regressor : \u001b[0m\n"
          ]
        }
      ],
      "source": [
        "# accuracy of Models on the testing set\n",
        "\n",
        "print(black('Accuracy of Models -- After optimazation --:\\n_____________________________________', ['bold']))\n",
        "\n",
        "print(black(\"Linear Regression :\",['bold']) ,'{:.2%}'.format(evaluator_R.evaluate(cv_lrModel.bestModel.transform(df_test))))\n",
        "\n",
        "print(black(\"Random Forest Regressor : \",['bold']), '{:.2%}'.format(evaluator_R.evaluate(cv_rfModel.bestModel.transform(df_test))))\n",
        "\n",
        "print(black(\"Gradient Boosted Tree Regressor : \",['bold']),'{:.2%}'.format(evaluator_R.evaluate(cvModel2.bestModel.transform(df_test))))\n",
        "\n",
        "print(black(\"Decision Tree Regressor : \",['bold']))\n",
        "\n",
        "\n",
        "#print(\"Tree Regressor: \",evaluator_R.evaluate(cv_dtModel.bestModel.transform(df_test)))"
      ]
    }
  ],
  "metadata": {
    "colab": {
      "provenance": []
    },
    "gpuClass": "standard",
    "kernelspec": {
      "display_name": "Python 3 (ipykernel)",
      "language": "python",
      "name": "python3"
    },
    "language_info": {
      "codemirror_mode": {
        "name": "ipython",
        "version": 3
      },
      "file_extension": ".py",
      "mimetype": "text/x-python",
      "name": "python",
      "nbconvert_exporter": "python",
      "pygments_lexer": "ipython3",
      "version": "3.9.13"
    }
  },
  "nbformat": 4,
  "nbformat_minor": 0
}