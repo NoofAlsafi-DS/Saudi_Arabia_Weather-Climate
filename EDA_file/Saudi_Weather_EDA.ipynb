{
 "cells": [
  {
   "cell_type": "markdown",
   "id": "1nXl9jpJ_wK_",
   "metadata": {
    "id": "1nXl9jpJ_wK_"
   },
   "source": [
    "# Capstone Project: Saudi Arabia Climate Observation \n",
    "\n",
    "by VISION Team"
   ]
  },
  {
   "cell_type": "markdown",
   "id": "OqGYYY7FcBvR",
   "metadata": {
    "id": "OqGYYY7FcBvR"
   },
   "source": [
    "## Importing Packages"
   ]
  },
  {
   "cell_type": "code",
   "execution_count": null,
   "id": "87c6fdb1",
   "metadata": {
    "id": "87c6fdb1"
   },
   "outputs": [],
   "source": [
    "#import the usual suspects\n",
    "import pandas as pd\n",
    "import numpy as np\n",
    "import matplotlib.pyplot as plt\n",
    "import seaborn as sns\n",
    "\n",
    "#from datetime import datetime, timezone\n",
    "#import time"
   ]
  },
  {
   "cell_type": "markdown",
   "id": "ZEfCdRdnwmvG",
   "metadata": {
    "id": "ZEfCdRdnwmvG"
   },
   "source": [
    "## Loading Dataset"
   ]
  },
  {
   "cell_type": "code",
   "execution_count": null,
   "id": "rMqr1d1EQJPV",
   "metadata": {
    "colab": {
     "base_uri": "https://localhost:8080/"
    },
    "id": "rMqr1d1EQJPV",
    "outputId": "da9702da-77ca-4ef0-a385-39568e040b80"
   },
   "outputs": [],
   "source": [
    "#from google.colab import drive\n",
    "#drive.mount('/content/drive')"
   ]
  },
  {
   "cell_type": "code",
   "execution_count": null,
   "id": "dfee1a29",
   "metadata": {
    "colab": {
     "base_uri": "https://localhost:8080/",
     "height": 382
    },
    "id": "dfee1a29",
    "outputId": "72da38b0-f827-4072-e7cc-855cc9008ccc",
    "scrolled": true
   },
   "outputs": [],
   "source": [
    "#Loading  the data\n",
    "#df = pd.read_csv('/content/drive/MyDrive/saudi-hourly-weather-data.csv',delimiter = ';')\n",
    "df = pd.read_csv('SaudiWeather.csv')\n",
    "\n",
    "df.head()"
   ]
  },
  {
   "cell_type": "code",
   "execution_count": null,
   "id": "36dfe152",
   "metadata": {},
   "outputs": [],
   "source": []
  },
  {
   "cell_type": "markdown",
   "id": "a73b1de4",
   "metadata": {},
   "source": [
    "## Data Visualization"
   ]
  },
  {
   "cell_type": "code",
   "execution_count": null,
   "id": "7c4d3396",
   "metadata": {},
   "outputs": [],
   "source": [
    "df.head(1)"
   ]
  },
  {
   "cell_type": "code",
   "execution_count": null,
   "id": "526c16dd",
   "metadata": {},
   "outputs": [],
   "source": [
    "df.info()"
   ]
  },
  {
   "cell_type": "code",
   "execution_count": null,
   "id": "65f0d4c5",
   "metadata": {},
   "outputs": [],
   "source": [
    "df.columns"
   ]
  },
  {
   "cell_type": "code",
   "execution_count": null,
   "id": "f13b84ec",
   "metadata": {},
   "outputs": [],
   "source": [
    "#define color \n",
    "c= ['#FE3600','#fa894d','#fce760','#009d77','#b1eaeb']"
   ]
  },
  {
   "cell_type": "markdown",
   "id": "2b139c40",
   "metadata": {},
   "source": [
    "### 1st Plot: Air Temperature Categories Distribution"
   ]
  },
  {
   "cell_type": "code",
   "execution_count": null,
   "id": "9c3ae55f",
   "metadata": {},
   "outputs": [],
   "source": [
    "#Set fig size\n",
    "fig = plt.figure(figsize =(10, 7))\n",
    "\n",
    "# set the labels of figure \n",
    "lable=[\"hot\",\"comfortable \",\"warm\",\"cold\"]\n",
    "\n",
    "# Add title\n",
    "plt.title(\"Air Temperature Categories Distribution\",fontsize=18,weight = 'bold')\n",
    "\n",
    "\n",
    "data = df['air_temperature_categories'].value_counts().nlargest(4)\n",
    "\n",
    "colors = sns.color_palette(c)\n",
    "\n",
    "plt.pie(data.values, labels=lable, colors=colors, autopct='%1.1f%%',explode = [.01,.01,.01,.01])\n",
    "plt.show()\n",
    "fig.savefig('1.jpg')"
   ]
  },
  {
   "cell_type": "markdown",
   "id": "7778e003",
   "metadata": {},
   "source": [
    "The figure above shows the air_temperature_categories which are hot,comfortable, warm and cold from 2017 till 2022,\n",
    "in Saudi Arabia, the climate is generally desert becauce this we note the trending categories is hot ,then comfortable comes the second category while the cold the last."
   ]
  },
  {
   "cell_type": "markdown",
   "id": "082b08e9",
   "metadata": {},
   "source": [
    "### 2nd Plot: Wind Type Distribution"
   ]
  },
  {
   "cell_type": "code",
   "execution_count": null,
   "id": "7b214b3f",
   "metadata": {
    "scrolled": true
   },
   "outputs": [],
   "source": [
    "Wind_Distribution=df['wind_type'].value_counts().sort_values(ascending=False)\n",
    "Wind_Distribution"
   ]
  },
  {
   "cell_type": "code",
   "execution_count": null,
   "id": "8092a3b1",
   "metadata": {},
   "outputs": [],
   "source": [
    "# Set the width and height of the figure\n",
    "plt.figure(figsize=(6,6))\n",
    "\n",
    "# Add title\n",
    "plt.title(\"Wind Type Distribution\",fontsize=18,weight = 'bold')\n",
    "\n",
    "sns.barplot(x=Wind_Distribution.index,y=Wind_Distribution, palette=c, ci=False,edgecolor=\"black\")\n",
    "\n",
    "#Rotate x-labels, otherwise it's utterly hectic\n",
    "plt.xticks(rotation=90)\n",
    "plt.ylabel(\"count\")\n",
    "plt.savefig('Wind Type Distribution.jpg')"
   ]
  },
  {
   "cell_type": "markdown",
   "id": "834ddfc9",
   "metadata": {},
   "source": [
    "According to the registered observations in 2017 to 2022, 99% the wind type is normal and only 1% represented the wind is varible."
   ]
  },
  {
   "cell_type": "markdown",
   "id": "ac775564",
   "metadata": {},
   "source": [
    "### 3rd Plot: Year Distribution"
   ]
  },
  {
   "cell_type": "code",
   "execution_count": null,
   "id": "f911db3a",
   "metadata": {},
   "outputs": [],
   "source": [
    "year_Distribution=df['YEAR'].value_counts().sort_values(ascending=False)\n",
    "year_Distribution"
   ]
  },
  {
   "cell_type": "code",
   "execution_count": null,
   "id": "2526814e",
   "metadata": {},
   "outputs": [],
   "source": [
    "# Set the width and height of the figure\n",
    "plt.figure(figsize=(8,6))\n",
    "\n",
    "# Add title\n",
    "plt.title(\"Year Distribution\",fontsize=18,weight = 'bold')\n",
    "\n",
    "sns.barplot(x=year_Distribution.index,y=year_Distribution, palette=c, ci=False,edgecolor=\"black\")\n",
    "\n",
    "#Rotate x-labels, otherwise it's utterly hectic\n",
    "plt.xticks(rotation=90)\n",
    "\n",
    "plt.ylabel(\"count\");\n",
    "plt.savefig('Year Distribution.jpg')"
   ]
  },
  {
   "cell_type": "markdown",
   "id": "bd730c3c",
   "metadata": {},
   "source": [
    "Our Dataset contains 1,865,808 records registered around the five years ago  from 2017 to 2022 \n",
    "and from this plot we noted the 2021 has the highest observation's records by 326,711 and the followed by the year 2022 with 321,873 accordint to KAPSARC data portal."
   ]
  },
  {
   "cell_type": "markdown",
   "id": "ea42bf0b",
   "metadata": {},
   "source": [
    "### 4th Plot: Station Country Distribution"
   ]
  },
  {
   "cell_type": "code",
   "execution_count": null,
   "id": "be929915",
   "metadata": {},
   "outputs": [],
   "source": [
    "station_Distribution=df['station_name'].value_counts().sort_values(ascending=False)\n",
    "station_Distribution"
   ]
  },
  {
   "cell_type": "code",
   "execution_count": null,
   "id": "158f4952",
   "metadata": {},
   "outputs": [],
   "source": [
    "# Set the width and height of the figure\n",
    "plt.figure(figsize=(15,13))\n",
    "\n",
    "# Add title\n",
    "plt.title(\"Station Country Distribution\",fontsize=18,weight = 'bold')\n",
    "\n",
    "sns.barplot(x=station_Distribution,y=station_Distribution.index, palette=c, ci=False,edgecolor=\"black\")\n",
    "\n",
    "#Rotate x-labels, otherwise it's utterly hectic\n",
    "plt.xticks(rotation=90)\n",
    "\n",
    "plt.ylabel(\"count\");\n",
    "plt.savefig('Station Country Distribution.jpg')"
   ]
  },
  {
   "cell_type": "markdown",
   "id": "79ce2df9",
   "metadata": {},
   "source": [
    "From the chart above, we counted the number of registered observations and we see Qassim has the highest number of records ,then King Abdullah Bin Abddlaziz station comes the next, afterthat,KFIA in Dammam the last. "
   ]
  },
  {
   "cell_type": "markdown",
   "id": "1f550a74",
   "metadata": {},
   "source": [
    "### 5th Plot: Humidity Levels Distribution"
   ]
  },
  {
   "cell_type": "code",
   "execution_count": null,
   "id": "51260a11",
   "metadata": {},
   "outputs": [],
   "source": [
    "humidity_Distribution=df['humidity_level'].value_counts().sort_values(ascending=False)\n",
    "humidity_Distribution"
   ]
  },
  {
   "cell_type": "code",
   "execution_count": null,
   "id": "10d85133",
   "metadata": {
    "scrolled": false
   },
   "outputs": [],
   "source": [
    "# Set the width and height of the figure\n",
    "plt.figure(figsize=(13,13))\n",
    "\n",
    "# Add title\n",
    "plt.title(\"Humidity Levels Distribution\",fontsize=18,weight = 'bold')\n",
    "\n",
    "sns.barplot(x=humidity_Distribution.index,y=humidity_Distribution, palette=c, ci=False,edgecolor=\"black\")\n",
    "\n",
    "#Rotate x-labels, otherwise it's utterly hectic\n",
    "plt.xticks(rotation=0)\n",
    "\n",
    "plt.ylabel(\"count\");\n",
    "plt.savefig('Humidity Levels Distribution.jpg')"
   ]
  },
  {
   "cell_type": "markdown",
   "id": "98cd7387",
   "metadata": {},
   "source": [
    "According to all stations country and the five years ago we see the most humidity levels is 25% and lower while the lowest level is 73% and higher."
   ]
  },
  {
   "cell_type": "markdown",
   "id": "e0906050",
   "metadata": {},
   "source": [
    "### 6th Plot: Cloud And Visibility OK Distribution"
   ]
  },
  {
   "cell_type": "code",
   "execution_count": null,
   "id": "11d263a2",
   "metadata": {
    "scrolled": true
   },
   "outputs": [],
   "source": [
    "cloud_visibility_Distribution=df['sky_cavok'].value_counts().sort_values(ascending=False)\n",
    "cloud_visibility_Distribution"
   ]
  },
  {
   "cell_type": "code",
   "execution_count": null,
   "id": "88774eac",
   "metadata": {},
   "outputs": [],
   "source": [
    "# Set the width and height of the figure\n",
    "plt.figure(figsize=(6,6))\n",
    "\n",
    "# Add title\n",
    "plt.title(\"Cloud And Visibility OK Distribution\",fontsize=18,weight = 'bold')\n",
    "\n",
    "sns.barplot(x=cloud_visibility_Distribution.index,y=cloud_visibility_Distribution, palette=c, ci=False,edgecolor=\"black\")\n",
    "\n",
    "#Rotate x-labels, otherwise it's utterly hectic\n",
    "plt.xticks(rotation=0)\n",
    "\n",
    "plt.ylabel(\"count\");\n",
    "plt.savefig('Cloud And Visibility OK Distribution.jpg')"
   ]
  },
  {
   "cell_type": "markdown",
   "id": "01d905cb",
   "metadata": {},
   "source": [
    "The above plot shows the sky_cavok which means the registered observation is Cloud And Visibility OK or not?, \n",
    "we see about 80% of cloud and visibility isn't ok while 20% was ok."
   ]
  },
  {
   "cell_type": "markdown",
   "id": "f08ca338",
   "metadata": {},
   "source": [
    "### 7th Plot: Total Observations in each regions in 2021"
   ]
  },
  {
   "cell_type": "code",
   "execution_count": null,
   "id": "79d155fd",
   "metadata": {},
   "outputs": [],
   "source": [
    "# i need all observations that registered in 2021 to determine it on the map\n",
    "df_2021 = df[df['YEAR'] == 2021]"
   ]
  },
  {
   "cell_type": "code",
   "execution_count": null,
   "id": "2fe45936",
   "metadata": {
    "scrolled": false
   },
   "outputs": [],
   "source": [
    "import folium \n",
    "from folium import Choropleth, Circle, Marker\n",
    "from folium.plugins import HeatMap, MarkerCluster\n",
    "import math\n",
    "\n",
    "\n",
    "m = folium.Map(location=[23.885942,45.079162], zoom_start=13)\n",
    " \n",
    "#Add Markers to the map\n",
    "cluster = MarkerCluster()\n",
    "# for loop to more than point\n",
    "for idx, row in df_2021.iterrows():\n",
    "    \n",
    "    if not math.isnan(row['longitude']) and not math.isnan(row['latitude']):\n",
    "        \n",
    "        cluster.add_child(Marker([row['latitude'], row['longitude']]))\n",
    "\n",
    "m.add_child(cluster)"
   ]
  },
  {
   "cell_type": "markdown",
   "id": "eaf42cda",
   "metadata": {},
   "source": [
    "This map shows the total observations in each regions, as you can see, in 2021, the Southern Region has the highest number of records while Hail has the lowest number."
   ]
  },
  {
   "cell_type": "markdown",
   "id": "f8a74ede",
   "metadata": {},
   "source": [
    "### 8th Plot: Air Temperature Variations over Years"
   ]
  },
  {
   "cell_type": "code",
   "execution_count": null,
   "id": "b079e9fb",
   "metadata": {
    "scrolled": false
   },
   "outputs": [],
   "source": [
    "# display pivot table for air_temperature through all years\n",
    "\n",
    "df.pivot_table('air_temperature', index='hour', columns='YEAR').plot(figsize=(14,6))\n",
    "plt.title(\"Air Temperature Variations over Years\",fontsize=18,weight = 'bold')\n",
    "plt.ylabel('air_temperature in degree CELSIUS');\n",
    "plt.savefig('Air Temperature Variations over Years.jpg')"
   ]
  },
  {
   "cell_type": "markdown",
   "id": "a32844dd",
   "metadata": {},
   "source": [
    "The chart above clarify the 5 years and how the air temperature differ from year to year, In 2021, the temperature was the highest, while in the year 2020, the temperature was almost the lowest"
   ]
  },
  {
   "cell_type": "markdown",
   "id": "a9759b1c",
   "metadata": {},
   "source": [
    "### 9th Plot: Wind Speed Variations over Years"
   ]
  },
  {
   "cell_type": "code",
   "execution_count": null,
   "id": "1be42712",
   "metadata": {
    "scrolled": false
   },
   "outputs": [],
   "source": [
    "# display pivot table for air_temperature through all years\n",
    "\n",
    "df.pivot_table('wind_speed_rate', index='hour', columns='YEAR').plot(figsize=(14,6))\n",
    "plt.title(\"Wind Speed Variations over Years\",fontsize=18,weight = 'bold')\n",
    "plt.ylabel('Wind Speed in m/s');\n",
    "plt.savefig('Wind Speed Variations over Years.jpg')"
   ]
  },
  {
   "cell_type": "markdown",
   "id": "c1255e73",
   "metadata": {},
   "source": [
    "The above plot display the wind speed variations over five years the wind speed was almost the same the year 2018 and 2017 while reached to the lowest speed in year 2022."
   ]
  },
  {
   "cell_type": "markdown",
   "id": "074b147f",
   "metadata": {},
   "source": [
    "### 10th Plot: Air Temperature Variations over Month"
   ]
  },
  {
   "cell_type": "code",
   "execution_count": null,
   "id": "249edc6d",
   "metadata": {},
   "outputs": [],
   "source": [
    "# display pivot table for air_temperature through all month\n",
    "\n",
    "df.pivot_table('air_temperature', index='hour', columns='month').plot(figsize=(14,6))\n",
    "plt.title(\"Air Temperature Variations over Month\",fontsize=18,weight = 'bold')\n",
    "plt.ylabel('Air temperature in degree CELSIUS');\n",
    "plt.savefig('Air Temperature Variations over Month.jpg')"
   ]
  },
  {
   "cell_type": "markdown",
   "id": "8639e425",
   "metadata": {},
   "source": [
    "The above chart, show the variations between air temperatures and months during the year 2017 to 2022, \n",
    "we note the months 12,1 and 2 has the lowest temperature which means we are in the winter season, while the highest temperature was in the summer season which are 6,7 and 8."
   ]
  },
  {
   "cell_type": "markdown",
   "id": "43caeab4",
   "metadata": {},
   "source": [
    "### 11th Plot: Air Temperature Categories Per Year"
   ]
  },
  {
   "cell_type": "code",
   "execution_count": null,
   "id": "3e514080",
   "metadata": {},
   "outputs": [],
   "source": [
    "plt.figure(figsize = (14, 6))\n",
    "ax = sns.countplot(x=\"YEAR\", hue=\"air_temperature_categories\",palette=c, data=df.sort_values(by='YEAR'))\n",
    "ax.legend(loc='upper left', frameon=True, labels=[\"hot\",\"comfortable \",\"warm\",\"cold\"])\n",
    "\n",
    "for p in ax.patches:\n",
    "    ax.annotate(format(p.get_height()),\n",
    "                (p.get_x()+p.get_width()/2., p.get_height()-4),\n",
    "                ha = 'center', va = 'center',\n",
    "                xytext = (0, 10), textcoords = 'offset points')\n",
    "\n",
    "_ = ax.set_title(\"Air Temperature Categories Per Year\",fontsize=18,weight = 'bold')\n",
    "plt.savefig('Air Temperature Categories Per Year.jpg')"
   ]
  },
  {
   "cell_type": "markdown",
   "id": "ba8999ca",
   "metadata": {},
   "source": [
    "For more details, we classify the years according to air temperature categories, we see how the temperature increases every year due to climate change.\n"
   ]
  },
  {
   "cell_type": "markdown",
   "id": "3e5f885a",
   "metadata": {},
   "source": [
    "### 12th Plot: Wind Speed Rate According To Air Temperature Categories"
   ]
  },
  {
   "cell_type": "code",
   "execution_count": null,
   "id": "7484a49d",
   "metadata": {},
   "outputs": [],
   "source": [
    "wind_speed=df['wind_speed_rate'].value_counts().sort_values(ascending=False).head(10)\n",
    "wind_speed"
   ]
  },
  {
   "cell_type": "code",
   "execution_count": null,
   "id": "8c86c5dc",
   "metadata": {},
   "outputs": [],
   "source": [
    "# Smoker count according to Diabetes statues\n",
    "# Creating plot\n",
    "\n",
    "#Set fig size\n",
    "fig, ax = plt.subplots(figsize=(13,8))\n",
    "\n",
    "#plotting bar-plot\n",
    "#ax=sns.countplot(x='wind_speed', data=df, hue= 'air_temperature_categories', palette=c,\n",
    "               # edgecolor=\"black\")\n",
    "sns.countplot(x='wind_speed_rate',hue='air_temperature_categories',data=df,palette=c,order=df['wind_speed_rate'].value_counts().nlargest(10).index)\n",
    "\n",
    "#Rotate x-labels\n",
    "ax.set_xticklabels(ax.get_xticklabels(), rotation=80)\n",
    "\n",
    "# Add title\n",
    "plt.title('Wind Speed Rate According To Air Temperature Categories',fontsize=18,weight = 'bold')\n",
    "\n",
    "#Change leganed labels\n",
    "plt.legend(labels=[\"hot\",\"comfortable \",\"warm\",\"cold\"])\n",
    "\n",
    "# show plot\n",
    "plt.savefig('Wind Speed Rate According To Air Temperature Categories.jpg');"
   ]
  },
  {
   "cell_type": "markdown",
   "id": "6de688ae",
   "metadata": {},
   "source": [
    "For more details about wind speeds and air temperature categories, we notice how the wind speed decreases every year from 2.1 m/s to 1.0 m/s.\n"
   ]
  },
  {
   "cell_type": "markdown",
   "id": "acfd1143",
   "metadata": {
    "id": "2b36bb12"
   },
   "source": [
    "### 13th Plot: Correlation Matrix Between Featuers"
   ]
  },
  {
   "cell_type": "code",
   "execution_count": null,
   "id": "4b463e37",
   "metadata": {
    "colab": {
     "base_uri": "https://localhost:8080/",
     "height": 677
    },
    "id": "4b463e37",
    "outputId": "d407cec0-8cdf-429a-f087-8d2a82d5767f",
    "scrolled": false
   },
   "outputs": [],
   "source": [
    "#Set fig size\n",
    "fig, ax = plt.subplots(figsize=(25,15)) \n",
    "\n",
    "# Creating plot\n",
    "corr = df.corr()\n",
    "\n",
    "#plotting heatmap-plot\n",
    "sns.heatmap(corr,annot=True, cmap = c, linewidth = 0.30)\n",
    "\n",
    "# Add title\n",
    "plt.title(\"Correlation matrix between features\",fontweight=\"bold\",fontsize=20)\n",
    "\n",
    "# show plot\n",
    "plt.show()\n",
    "fig.savefig('Correlation matrix.jpg')"
   ]
  },
  {
   "cell_type": "markdown",
   "id": "c0ff9a4d",
   "metadata": {},
   "source": [
    "After preprocessing, we selected the most important features to build our Regression Machine Learning Models and this plot to clarify the Correlation between the target 'air_temperature' and other features. "
   ]
  }
 ],
 "metadata": {
  "colab": {
   "provenance": []
  },
  "kernelspec": {
   "display_name": "Python 3 (ipykernel)",
   "language": "python",
   "name": "python3"
  },
  "language_info": {
   "codemirror_mode": {
    "name": "ipython",
    "version": 3
   },
   "file_extension": ".py",
   "mimetype": "text/x-python",
   "name": "python",
   "nbconvert_exporter": "python",
   "pygments_lexer": "ipython3",
   "version": "3.9.12"
  }
 },
 "nbformat": 4,
 "nbformat_minor": 5
}
