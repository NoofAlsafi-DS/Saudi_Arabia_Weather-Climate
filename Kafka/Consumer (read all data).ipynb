{
 "cells": [
  {
   "cell_type": "markdown",
   "id": "3805976a",
   "metadata": {},
   "source": [
    "****\n",
    "### Consumer read all data \n",
    "****"
   ]
  },
  {
   "cell_type": "code",
   "execution_count": null,
   "id": "f9127cfa",
   "metadata": {},
   "outputs": [],
   "source": [
    "from kafka import KafkaAdminClient, KafkaConsumer, KafkaProducer\n",
    "import sys\n",
    "import json\n",
    "from json import loads\n",
    "from pykafka import KafkaClient \n",
    "client = KafkaClient(hosts=\"localhost:9092\") #initialize KafkaClient\n",
    "\n",
    "### Setting up the Python consumer\n",
    "topicName = client.topics['ReadData']\n",
    "consumer = topicName.get_simple_consumer()\n",
    "\n",
    "\n",
    "### Reading the message from consumer\n",
    "try:\n",
    "    for message in consumer:\n",
    "        print (message.value)\n",
    "except KeyboardInterrupt:\n",
    "    sys.exit()\n",
    "    "
   ]
  }
 ],
 "metadata": {
  "kernelspec": {
   "display_name": "Python 3 (ipykernel)",
   "language": "python",
   "name": "python3"
  },
  "language_info": {
   "codemirror_mode": {
    "name": "ipython",
    "version": 3
   },
   "file_extension": ".py",
   "mimetype": "text/x-python",
   "name": "python",
   "nbconvert_exporter": "python",
   "pygments_lexer": "ipython3",
   "version": "3.9.13"
  }
 },
 "nbformat": 4,
 "nbformat_minor": 5
}
