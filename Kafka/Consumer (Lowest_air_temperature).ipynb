{
 "cells": [
  {
   "cell_type": "markdown",
   "id": "a1700d80",
   "metadata": {},
   "source": [
    "**** \n",
    "### >> Let consumer Decide how many result want to show \n",
    "****"
   ]
  },
  {
   "cell_type": "code",
   "execution_count": 5,
   "id": "d1a27281",
   "metadata": {},
   "outputs": [
    {
     "name": "stdout",
     "output_type": "stream",
     "text": [
      "Please enter how many result to show: 20\n",
      "0 b'[\"GURIAT\", \"2022\", \"1.0\", \"Winter\", \"25% and lower\"]'\n",
      "1 b'[\"TURAIF\", \"2022\", \"1.0\", \"Winter\", \"25% and lower\"]'\n",
      "2 b'[\"HAIL\", \"2022\", \"1.0\", \"Winter\", \"25% and lower\"]'\n",
      "3 b'[\"AL JOUF\", \"2022\", \"1.0\", \"Winter\", \"25% and lower\"]'\n",
      "4 b'[\"TURAIF\", \"2022\", \"1.0\", \"Winter\", \"25% and lower\"]'\n",
      "5 b'[\"TURAIF\", \"2022\", \"1.0\", \"Winter\", \"25% and lower\"]'\n",
      "6 b'[\"TURAIF\", \"2022\", \"1.0\", \"Winter\", \"25% and lower\"]'\n",
      "7 b'[\"TURAIF\", \"2022\", \"1.0\", \"Winter\", \"25% and lower\"]'\n",
      "8 b'[\"GURIAT\", \"2022\", \"1.0\", \"Winter\", \"25% and lower\"]'\n",
      "9 b'[\"GURIAT\", \"2022\", \"1.0\", \"Winter\", \"25% and lower\"]'\n",
      "10 b'[\"TURAIF\", \"2022\", \"1.0\", \"Winter\", \"25% and lower\"]'\n",
      "11 b'[\"TURAIF\", \"2022\", \"1.0\", \"Winter\", \"25% and lower\"]'\n",
      "12 b'[\"GURIAT\", \"2022\", \"1.0\", \"Winter\", \"25% and lower\"]'\n",
      "13 b'[\"TURAIF\", \"2022\", \"1.0\", \"Winter\", \"25% and lower\"]'\n",
      "14 b'[\"GURIAT\", \"2022\", \"1.0\", \"Winter\", \"25% and lower\"]'\n",
      "15 b'[\"GURIAT\", \"2022\", \"1.0\", \"Winter\", \"25% and lower\"]'\n",
      "16 b'[\"TURAIF\", \"2022\", \"1.0\", \"Winter\", \"25% and lower\"]'\n",
      "17 b'[\"TURAIF\", \"2022\", \"1.0\", \"Winter\", \"25% and lower\"]'\n",
      "18 b'[\"TURAIF\", \"2022\", \"1.0\", \"Winter\", \"25% and lower\"]'\n",
      "19 b'[\"TURAIF\", \"2022\", \"1.0\", \"Winter\", \"25% and lower\"]'\n"
     ]
    },
    {
     "ename": "ConsumerStoppedException",
     "evalue": "",
     "output_type": "error",
     "traceback": [
      "\u001b[0;31m---------------------------------------------------------------------------\u001b[0m",
      "\u001b[0;31mConsumerStoppedException\u001b[0m                  Traceback (most recent call last)",
      "\u001b[0;32m/var/folders/tl/qz337dp93ll0vvq0cgprmr5c0000gn/T/ipykernel_1752/1611039441.py\u001b[0m in \u001b[0;36m<module>\u001b[0;34m\u001b[0m\n\u001b[1;32m     21\u001b[0m \u001b[0;34m\u001b[0m\u001b[0m\n\u001b[1;32m     22\u001b[0m  \u001b[0;31m#we will now use a simple loop to get all the values one by one\u001b[0m\u001b[0;34m\u001b[0m\u001b[0;34m\u001b[0m\u001b[0m\n\u001b[0;32m---> 23\u001b[0;31m \u001b[0;32mfor\u001b[0m \u001b[0mmessage\u001b[0m \u001b[0;32min\u001b[0m \u001b[0mconsumer\u001b[0m\u001b[0;34m:\u001b[0m\u001b[0;34m\u001b[0m\u001b[0;34m\u001b[0m\u001b[0m\n\u001b[0m\u001b[1;32m     24\u001b[0m     \u001b[0;32mif\u001b[0m \u001b[0mmessage\u001b[0m \u001b[0;32mis\u001b[0m \u001b[0;32mnot\u001b[0m \u001b[0;32mNone\u001b[0m\u001b[0;34m:\u001b[0m\u001b[0;34m\u001b[0m\u001b[0;34m\u001b[0m\u001b[0m\n\u001b[1;32m     25\u001b[0m         \u001b[0;31m# add tweet text to the list for further analysis\u001b[0m\u001b[0;34m\u001b[0m\u001b[0;34m\u001b[0m\u001b[0m\n",
      "\u001b[0;32m~/opt/anaconda3/lib/python3.9/site-packages/pykafka/simpleconsumer.py\u001b[0m in \u001b[0;36m__iter__\u001b[0;34m(self)\u001b[0m\n\u001b[1;32m    459\u001b[0m         \u001b[0;34m\"\"\"Yield an infinite stream of messages until the consumer times out\"\"\"\u001b[0m\u001b[0;34m\u001b[0m\u001b[0;34m\u001b[0m\u001b[0m\n\u001b[1;32m    460\u001b[0m         \u001b[0;32mwhile\u001b[0m \u001b[0;32mTrue\u001b[0m\u001b[0;34m:\u001b[0m\u001b[0;34m\u001b[0m\u001b[0;34m\u001b[0m\u001b[0m\n\u001b[0;32m--> 461\u001b[0;31m             \u001b[0mmessage\u001b[0m \u001b[0;34m=\u001b[0m \u001b[0mself\u001b[0m\u001b[0;34m.\u001b[0m\u001b[0mconsume\u001b[0m\u001b[0;34m(\u001b[0m\u001b[0mblock\u001b[0m\u001b[0;34m=\u001b[0m\u001b[0;32mTrue\u001b[0m\u001b[0;34m)\u001b[0m\u001b[0;34m\u001b[0m\u001b[0;34m\u001b[0m\u001b[0m\n\u001b[0m\u001b[1;32m    462\u001b[0m             \u001b[0;32mif\u001b[0m \u001b[0;32mnot\u001b[0m \u001b[0mmessage\u001b[0m\u001b[0;34m:\u001b[0m\u001b[0;34m\u001b[0m\u001b[0;34m\u001b[0m\u001b[0m\n\u001b[1;32m    463\u001b[0m                 \u001b[0;32mreturn\u001b[0m\u001b[0;34m\u001b[0m\u001b[0;34m\u001b[0m\u001b[0m\n",
      "\u001b[0;32m~/opt/anaconda3/lib/python3.9/site-packages/pykafka/simpleconsumer.py\u001b[0m in \u001b[0;36mconsume\u001b[0;34m(self, block, unblock_event)\u001b[0m\n\u001b[1;32m    487\u001b[0m                 \u001b[0;31m# least one message is waiting in some queue.\u001b[0m\u001b[0;34m\u001b[0m\u001b[0;34m\u001b[0m\u001b[0m\n\u001b[1;32m    488\u001b[0m                 \u001b[0;32mif\u001b[0m \u001b[0;32mnot\u001b[0m \u001b[0mself\u001b[0m\u001b[0;34m.\u001b[0m\u001b[0m_running\u001b[0m\u001b[0;34m:\u001b[0m\u001b[0;34m\u001b[0m\u001b[0;34m\u001b[0m\u001b[0m\n\u001b[0;32m--> 489\u001b[0;31m                     \u001b[0;32mraise\u001b[0m \u001b[0mConsumerStoppedException\u001b[0m\u001b[0;34m(\u001b[0m\u001b[0;34m)\u001b[0m\u001b[0;34m\u001b[0m\u001b[0;34m\u001b[0m\u001b[0m\n\u001b[0m\u001b[1;32m    490\u001b[0m                 \u001b[0mmessage\u001b[0m \u001b[0;34m=\u001b[0m \u001b[0;32mNone\u001b[0m\u001b[0;34m\u001b[0m\u001b[0;34m\u001b[0m\u001b[0m\n\u001b[1;32m    491\u001b[0m                 \u001b[0;32mwhile\u001b[0m \u001b[0;32mnot\u001b[0m \u001b[0mmessage\u001b[0m\u001b[0;34m:\u001b[0m\u001b[0;34m\u001b[0m\u001b[0;34m\u001b[0m\u001b[0m\n",
      "\u001b[0;31mConsumerStoppedException\u001b[0m: "
     ]
    }
   ],
   "source": [
    "from kafka import KafkaAdminClient, KafkaConsumer, KafkaProducer\n",
    "import sys\n",
    "import json\n",
    "from json import loads\n",
    "from pykafka import KafkaClient \n",
    "import logging\n",
    "logger = logging.getLogger('kafka')\n",
    "logger.setLevel(logging.WARN)\n",
    "\n",
    "client = KafkaClient(hosts=\"localhost:9092\") #initialize KafkaClient\n",
    "\n",
    "### Setting up the Python consumer\n",
    "topicName = client.topics['Lowest_air_temp']\n",
    "consumer = topicName.get_simple_consumer()\n",
    "\n",
    "\n",
    "### Reading the message from consumer\n",
    "input_text = []\n",
    "\n",
    "user_input = int(input (\"Please enter how many result to show: \"))\n",
    "\n",
    " #we will now use a simple loop to get all the values one by one\n",
    "for message in consumer:\n",
    "    if message is not None:\n",
    "        # add tweet text to the list for further analysis \n",
    "        input_text.append(message.value)\n",
    "        \n",
    "        print (message.offset, message.value)\n",
    "        # set a condition to stop the consumer and the producer\n",
    "        if len(input_text) == user_input:\n",
    "            consumer.stop()\n",
    "    "
   ]
  },
  {
   "cell_type": "code",
   "execution_count": null,
   "id": "08a28862",
   "metadata": {},
   "outputs": [],
   "source": []
  }
 ],
 "metadata": {
  "kernelspec": {
   "display_name": "Python 3 (ipykernel)",
   "language": "python",
   "name": "python3"
  },
  "language_info": {
   "codemirror_mode": {
    "name": "ipython",
    "version": 3
   },
   "file_extension": ".py",
   "mimetype": "text/x-python",
   "name": "python",
   "nbconvert_exporter": "python",
   "pygments_lexer": "ipython3",
   "version": "3.9.13"
  }
 },
 "nbformat": 4,
 "nbformat_minor": 5
}
