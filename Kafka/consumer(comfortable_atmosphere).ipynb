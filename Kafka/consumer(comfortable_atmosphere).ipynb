{
 "cells": [
  {
   "cell_type": "markdown",
   "id": "22b0d036",
   "metadata": {},
   "source": [
    "**** \n",
    "### >> Let consumer Decide how many result want to show \n",
    "****"
   ]
  },
  {
   "cell_type": "code",
   "execution_count": 2,
   "id": "ec81edbc",
   "metadata": {},
   "outputs": [
    {
     "name": "stdout",
     "output_type": "stream",
     "text": [
      "Please enter how many result to show: 50\n",
      "0 b'[\"KING KHALED AB\", \"19.0\", \"Summer\", \"comfortable\"]'\n",
      "1 b'[\"ABHA\", \"18.0\", \"Summer\", \"comfortable\"]'\n",
      "2 b'[\"KING KHALED AB\", \"19.0\", \"Summer\", \"comfortable\"]'\n",
      "3 b'[\"KING KHALED AB\", \"19.0\", \"Summer\", \"comfortable\"]'\n",
      "4 b'[\"ABHA\", \"18.4\", \"Summer\", \"comfortable\"]'\n",
      "5 b'[\"ABHA\", \"18.0\", \"Summer\", \"comfortable\"]'\n",
      "6 b'[\"ABHA\", \"19.0\", \"Summer\", \"comfortable\"]'\n",
      "7 b'[\"KING KHALED AB\", \"20.0\", \"Summer\", \"comfortable\"]'\n",
      "8 b'[\"KING KHALED AB\", \"21.0\", \"Summer\", \"comfortable\"]'\n",
      "9 b'[\"ABHA\", \"20.0\", \"Summer\", \"comfortable\"]'\n",
      "10 b'[\"ABHA\", \"20.9\", \"Summer\", \"comfortable\"]'\n",
      "11 b'[\"ABHA\", \"21.0\", \"Summer\", \"comfortable\"]'\n",
      "12 b'[\"KING KHALED AB\", \"22.0\", \"Summer\", \"comfortable\"]'\n",
      "13 b'[\"KING KHALED AB\", \"22.0\", \"Summer\", \"comfortable\"]'\n",
      "14 b'[\"KING KHALED AB\", \"23.0\", \"Summer\", \"comfortable\"]'\n",
      "15 b'[\"ABHA\", \"22.0\", \"Summer\", \"comfortable\"]'\n",
      "16 b'[\"ABHA\", \"23.0\", \"Summer\", \"comfortable\"]'\n",
      "17 b'[\"ABHA\", \"23.0\", \"Summer\", \"comfortable\"]'\n",
      "18 b'[\"KING KHALED AB\", \"21.0\", \"Summer\", \"comfortable\"]'\n",
      "19 b'[\"TURAIF\", \"23.0\", \"Summer\", \"comfortable\"]'\n",
      "20 b'[\"HAIL\", \"22.0\", \"Summer\", \"comfortable\"]'\n",
      "21 b'[\"GURIAT\", \"21.0\", \"Summer\", \"comfortable\"]'\n",
      "22 b'[\"ABHA\", \"20.0\", \"Summer\", \"comfortable\"]'\n",
      "23 b'[\"GASSIM\", \"23.0\", \"Summer\", \"comfortable\"]'\n",
      "24 b'[\"NEJRAN\", \"21.0\", \"Summer\", \"comfortable\"]'\n",
      "25 b'[\"SHARURAH\", \"22.0\", \"Summer\", \"comfortable\"]'\n",
      "26 b'[\"GASSIM\", \"20.0\", \"Summer\", \"comfortable\"]'\n",
      "27 b'[\"TABUK\", \"20.0\", \"Summer\", \"comfortable\"]'\n",
      "28 b'[\"QAISUMAH\", \"23.0\", \"Summer\", \"comfortable\"]'\n",
      "29 b'[\"RAFHA\", \"21.0\", \"Summer\", \"comfortable\"]'\n",
      "30 b'[\"GURIAT\", \"20.0\", \"Summer\", \"comfortable\"]'\n",
      "31 b'[\"AL JOUF\", \"23.0\", \"Summer\", \"comfortable\"]'\n",
      "32 b'[\"TURAIF\", \"19.0\", \"Summer\", \"comfortable\"]'\n",
      "33 b'[\"AL BAHA\", \"22.0\", \"Summer\", \"comfortable\"]'\n",
      "34 b'[\"JUBAIL\", \"23.0\", \"Summer\", \"comfortable\"]'\n",
      "35 b'[\"HAIL\", \"18.0\", \"Summer\", \"comfortable\"]'\n",
      "36 b'[\"ARAR\", \"23.0\", \"Summer\", \"comfortable\"]'\n",
      "37 b'[\"BISHA\", \"21.0\", \"Summer\", \"comfortable\"]'\n",
      "38 b'[\"AL AHSA\", \"23.0\", \"Summer\", \"comfortable\"]'\n",
      "39 b'[\"NEJRAN\", \"19.0\", \"Summer\", \"comfortable\"]'\n",
      "40 b'[\"AL BAHA\", \"20.3\", \"Summer\", \"comfortable\"]'\n",
      "41 b'[\"QAISUMAH\", \"21.6\", \"Summer\", \"comfortable\"]'\n",
      "42 b'[\"ARAR\", \"22.5\", \"Summer\", \"comfortable\"]'\n",
      "43 b'[\"ARAR\", \"23.0\", \"Summer\", \"comfortable\"]'\n",
      "44 b'[\"BISHA\", \"19.3\", \"Summer\", \"comfortable\"]'\n",
      "45 b'[\"DAMMAM (KING FAHD INT. AIRPORT)\", \"21.0\", \"Summer\", \"comfortable\"]'\n",
      "46 b'[\"GASSIM\", \"19.0\", \"Summer\", \"comfortable\"]'\n",
      "47 b'[\"SHARURAH\", \"21.0\", \"Summer\", \"comfortable\"]'\n",
      "48 b'[\"BISHA\", \"19.0\", \"Summer\", \"comfortable\"]'\n",
      "49 b'[\"WADI AL DAWASIR\", \"22.0\", \"Summer\", \"comfortable\"]'\n"
     ]
    },
    {
     "ename": "ConsumerStoppedException",
     "evalue": "",
     "output_type": "error",
     "traceback": [
      "\u001b[0;31m---------------------------------------------------------------------------\u001b[0m",
      "\u001b[0;31mConsumerStoppedException\u001b[0m                  Traceback (most recent call last)",
      "\u001b[0;32m/var/folders/tl/qz337dp93ll0vvq0cgprmr5c0000gn/T/ipykernel_3243/3220248718.py\u001b[0m in \u001b[0;36m<module>\u001b[0;34m\u001b[0m\n\u001b[1;32m     21\u001b[0m \u001b[0;34m\u001b[0m\u001b[0m\n\u001b[1;32m     22\u001b[0m  \u001b[0;31m#we will now use a simple loop to get all the values one by one\u001b[0m\u001b[0;34m\u001b[0m\u001b[0;34m\u001b[0m\u001b[0m\n\u001b[0;32m---> 23\u001b[0;31m \u001b[0;32mfor\u001b[0m \u001b[0mmessage\u001b[0m \u001b[0;32min\u001b[0m \u001b[0mconsumer\u001b[0m\u001b[0;34m:\u001b[0m\u001b[0;34m\u001b[0m\u001b[0;34m\u001b[0m\u001b[0m\n\u001b[0m\u001b[1;32m     24\u001b[0m     \u001b[0;32mif\u001b[0m \u001b[0mmessage\u001b[0m \u001b[0;32mis\u001b[0m \u001b[0;32mnot\u001b[0m \u001b[0;32mNone\u001b[0m\u001b[0;34m:\u001b[0m\u001b[0;34m\u001b[0m\u001b[0;34m\u001b[0m\u001b[0m\n\u001b[1;32m     25\u001b[0m         \u001b[0;31m# add tweet text to the list for further analysis\u001b[0m\u001b[0;34m\u001b[0m\u001b[0;34m\u001b[0m\u001b[0m\n",
      "\u001b[0;32m~/opt/anaconda3/lib/python3.9/site-packages/pykafka/simpleconsumer.py\u001b[0m in \u001b[0;36m__iter__\u001b[0;34m(self)\u001b[0m\n\u001b[1;32m    459\u001b[0m         \u001b[0;34m\"\"\"Yield an infinite stream of messages until the consumer times out\"\"\"\u001b[0m\u001b[0;34m\u001b[0m\u001b[0;34m\u001b[0m\u001b[0m\n\u001b[1;32m    460\u001b[0m         \u001b[0;32mwhile\u001b[0m \u001b[0;32mTrue\u001b[0m\u001b[0;34m:\u001b[0m\u001b[0;34m\u001b[0m\u001b[0;34m\u001b[0m\u001b[0m\n\u001b[0;32m--> 461\u001b[0;31m             \u001b[0mmessage\u001b[0m \u001b[0;34m=\u001b[0m \u001b[0mself\u001b[0m\u001b[0;34m.\u001b[0m\u001b[0mconsume\u001b[0m\u001b[0;34m(\u001b[0m\u001b[0mblock\u001b[0m\u001b[0;34m=\u001b[0m\u001b[0;32mTrue\u001b[0m\u001b[0;34m)\u001b[0m\u001b[0;34m\u001b[0m\u001b[0;34m\u001b[0m\u001b[0m\n\u001b[0m\u001b[1;32m    462\u001b[0m             \u001b[0;32mif\u001b[0m \u001b[0;32mnot\u001b[0m \u001b[0mmessage\u001b[0m\u001b[0;34m:\u001b[0m\u001b[0;34m\u001b[0m\u001b[0;34m\u001b[0m\u001b[0m\n\u001b[1;32m    463\u001b[0m                 \u001b[0;32mreturn\u001b[0m\u001b[0;34m\u001b[0m\u001b[0;34m\u001b[0m\u001b[0m\n",
      "\u001b[0;32m~/opt/anaconda3/lib/python3.9/site-packages/pykafka/simpleconsumer.py\u001b[0m in \u001b[0;36mconsume\u001b[0;34m(self, block, unblock_event)\u001b[0m\n\u001b[1;32m    487\u001b[0m                 \u001b[0;31m# least one message is waiting in some queue.\u001b[0m\u001b[0;34m\u001b[0m\u001b[0;34m\u001b[0m\u001b[0m\n\u001b[1;32m    488\u001b[0m                 \u001b[0;32mif\u001b[0m \u001b[0;32mnot\u001b[0m \u001b[0mself\u001b[0m\u001b[0;34m.\u001b[0m\u001b[0m_running\u001b[0m\u001b[0;34m:\u001b[0m\u001b[0;34m\u001b[0m\u001b[0;34m\u001b[0m\u001b[0m\n\u001b[0;32m--> 489\u001b[0;31m                     \u001b[0;32mraise\u001b[0m \u001b[0mConsumerStoppedException\u001b[0m\u001b[0;34m(\u001b[0m\u001b[0;34m)\u001b[0m\u001b[0;34m\u001b[0m\u001b[0;34m\u001b[0m\u001b[0m\n\u001b[0m\u001b[1;32m    490\u001b[0m                 \u001b[0mmessage\u001b[0m \u001b[0;34m=\u001b[0m \u001b[0;32mNone\u001b[0m\u001b[0;34m\u001b[0m\u001b[0;34m\u001b[0m\u001b[0m\n\u001b[1;32m    491\u001b[0m                 \u001b[0;32mwhile\u001b[0m \u001b[0;32mnot\u001b[0m \u001b[0mmessage\u001b[0m\u001b[0;34m:\u001b[0m\u001b[0;34m\u001b[0m\u001b[0;34m\u001b[0m\u001b[0m\n",
      "\u001b[0;31mConsumerStoppedException\u001b[0m: "
     ]
    }
   ],
   "source": [
    "from kafka import KafkaAdminClient, KafkaConsumer, KafkaProducer\n",
    "import sys\n",
    "import json\n",
    "from json import loads\n",
    "from pykafka import KafkaClient \n",
    "import logging\n",
    "logger = logging.getLogger('kafka')\n",
    "logger.setLevel(logging.WARN)\n",
    "\n",
    "client = KafkaClient(hosts=\"localhost:9092\") #initialize KafkaClient\n",
    "\n",
    "### Setting up the Python consumer\n",
    "topicName = client.topics['comfortable_atmosphere']\n",
    "consumer = topicName.get_simple_consumer()\n",
    "\n",
    "\n",
    "### Reading the message from consumer\n",
    "input_text = []\n",
    "\n",
    "user_input = int(input (\"Please enter how many result to show: \"))\n",
    "\n",
    " #we will now use a simple loop to get all the values one by one\n",
    "for message in consumer:\n",
    "    if message is not None:\n",
    "        # add tweet text to the list for further analysis \n",
    "        input_text.append(message.value)\n",
    "        \n",
    "        print (message.offset, message.value)\n",
    "        # set a condition to stop the consumer and the producer\n",
    "        if len(input_text) == user_input:\n",
    "            consumer.stop()\n",
    "    "
   ]
  },
  {
   "cell_type": "code",
   "execution_count": null,
   "id": "75762f1c",
   "metadata": {},
   "outputs": [],
   "source": []
  }
 ],
 "metadata": {
  "kernelspec": {
   "display_name": "Python 3 (ipykernel)",
   "language": "python",
   "name": "python3"
  },
  "language_info": {
   "codemirror_mode": {
    "name": "ipython",
    "version": 3
   },
   "file_extension": ".py",
   "mimetype": "text/x-python",
   "name": "python",
   "nbconvert_exporter": "python",
   "pygments_lexer": "ipython3",
   "version": "3.9.13"
  }
 },
 "nbformat": 4,
 "nbformat_minor": 5
}
