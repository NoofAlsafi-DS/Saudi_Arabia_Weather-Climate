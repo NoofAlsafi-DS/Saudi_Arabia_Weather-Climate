{
 "cells": [
  {
   "cell_type": "markdown",
   "id": "15c6c0bb",
   "metadata": {},
   "source": [
    "****\n",
    "### Producer send all data to Consumer \n",
    "****"
   ]
  },
  {
   "cell_type": "code",
   "execution_count": 1,
   "id": "ef1f7bdb",
   "metadata": {},
   "outputs": [
    {
     "ename": "FileNotFoundError",
     "evalue": "[Errno 2] No such file or directory: 'SaudiWeather.csv'",
     "output_type": "error",
     "traceback": [
      "\u001b[0;31m---------------------------------------------------------------------------\u001b[0m",
      "\u001b[0;31mFileNotFoundError\u001b[0m                         Traceback (most recent call last)",
      "\u001b[0;32m/var/folders/tl/qz337dp93ll0vvq0cgprmr5c0000gn/T/ipykernel_1653/2976158476.py\u001b[0m in \u001b[0;36m<module>\u001b[0;34m\u001b[0m\n\u001b[1;32m     13\u001b[0m \u001b[0;34m\u001b[0m\u001b[0m\n\u001b[1;32m     14\u001b[0m \u001b[0;31m# iterate over each line as a ordered dictionary and print only few column by column name\u001b[0m\u001b[0;34m\u001b[0m\u001b[0;34m\u001b[0m\u001b[0m\n\u001b[0;32m---> 15\u001b[0;31m \u001b[0;32mwith\u001b[0m \u001b[0mopen\u001b[0m\u001b[0;34m(\u001b[0m\u001b[0;34m'SaudiWeather.csv'\u001b[0m\u001b[0;34m,\u001b[0m\u001b[0;34m'r'\u001b[0m\u001b[0;34m)\u001b[0m \u001b[0;32mas\u001b[0m \u001b[0mread_obj\u001b[0m\u001b[0;34m:\u001b[0m\u001b[0;34m\u001b[0m\u001b[0;34m\u001b[0m\u001b[0m\n\u001b[0m\u001b[1;32m     16\u001b[0m     \u001b[0mcsv_dict_reader\u001b[0m \u001b[0;34m=\u001b[0m \u001b[0mDictReader\u001b[0m\u001b[0;34m(\u001b[0m\u001b[0mread_obj\u001b[0m\u001b[0;34m,\u001b[0m\u001b[0mdialect\u001b[0m\u001b[0;34m=\u001b[0m\u001b[0mcsv\u001b[0m\u001b[0;34m.\u001b[0m\u001b[0mexcel\u001b[0m\u001b[0;34m)\u001b[0m\u001b[0;34m\u001b[0m\u001b[0;34m\u001b[0m\u001b[0m\n\u001b[1;32m     17\u001b[0m     \u001b[0;32mfor\u001b[0m \u001b[0mcolumn\u001b[0m \u001b[0;32min\u001b[0m \u001b[0mcsv_dict_reader\u001b[0m\u001b[0;34m:\u001b[0m\u001b[0;34m\u001b[0m\u001b[0;34m\u001b[0m\u001b[0m\n",
      "\u001b[0;31mFileNotFoundError\u001b[0m: [Errno 2] No such file or directory: 'SaudiWeather.csv'"
     ]
    }
   ],
   "source": [
    "from kafka import KafkaAdminClient, KafkaConsumer, KafkaProducer\n",
    "from kafka.admin import NewTopic\n",
    "import json\n",
    "from json import loads\n",
    "import csv\n",
    "from csv import DictReader\n",
    "\n",
    "# Required setting for Kafka Producer\n",
    "topicname = 'ReadData'\n",
    "producer = KafkaProducer(bootstrap_servers='localhost:9092',value_serializer=lambda v: binascii.hexlify(v.encode('utf-8')))\n",
    "producer = KafkaProducer()\n",
    "\n",
    "\n",
    "# iterate over each line as a ordered dictionary and print only few column by column name\n",
    "with open('SaudiWeather.csv','r') as read_obj:\n",
    "    csv_dict_reader = DictReader(read_obj,dialect=csv.excel)\n",
    "    for column in csv_dict_reader:\n",
    "        ack = producer.send(topicname, json.dumps(column).encode('utf-8'))\n",
    "        metadata = ack.get()\n",
    "        print(metadata.topic, metadata.partition)\n"
   ]
  },
  {
   "cell_type": "code",
   "execution_count": null,
   "id": "8effb646",
   "metadata": {},
   "outputs": [],
   "source": []
  }
 ],
 "metadata": {
  "kernelspec": {
   "display_name": "Python 3 (ipykernel)",
   "language": "python",
   "name": "python3"
  },
  "language_info": {
   "codemirror_mode": {
    "name": "ipython",
    "version": 3
   },
   "file_extension": ".py",
   "mimetype": "text/x-python",
   "name": "python",
   "nbconvert_exporter": "python",
   "pygments_lexer": "ipython3",
   "version": "3.9.13"
  }
 },
 "nbformat": 4,
 "nbformat_minor": 5
}
